{
 "cells": [
  {
   "attachments": {},
   "cell_type": "markdown",
   "metadata": {},
   "source": [
    "### Load packages and sample data"
   ]
  },
  {
   "cell_type": "code",
   "execution_count": 1,
   "metadata": {},
   "outputs": [],
   "source": [
    "import shlex\n",
    "import re\n",
    "import pandas as pd\n",
    "import numpy as np\n",
    "from typing import List\n",
    "import utils"
   ]
  },
  {
   "cell_type": "code",
   "execution_count": 2,
   "metadata": {},
   "outputs": [],
   "source": [
    "fields_to_include = [\"OWNER\",\"TITLE\", \"ABSTRACT\", \"SERVICETYPE\", \"SERVICELINK\", \"KEYWORDS\"]\n",
    "fields_to_output = [\"OWNER\",\"TITLE\", \"SERVICETYPE\", \"SERVICELINK\"]\n",
    "url_github_repo = \"https://github.com/davidoesch/geoservice_harvester_poc/blob/main/data/\"\n",
    "url_github_repo_suffix = \"?raw=true\"\n",
    "url_geoservices_CH_csv = \"{}geoservices_CH.csv{}\".format(url_github_repo,url_github_repo_suffix)\n",
    "a = 'Strassen auswertung system'"
   ]
  },
  {
   "cell_type": "code",
   "execution_count": 3,
   "metadata": {},
   "outputs": [],
   "source": [
    "def split_delimiters(word_list_with_delimiters: List[str]) -> List[str]:\n",
    "    \"\"\"Take care of left over delimiters, split strings even if in qoutes\n",
    "        Return a list of words \"\"\"\n",
    "    delimiters = [\";\", \",\"]\n",
    "\n",
    "    new_word_list = []\n",
    "\n",
    "    for word in word_list_with_delimiters:\n",
    "        if (any(delimiter in word for delimiter in delimiters)):\n",
    "            splitted_words = re.split(r',|;', word)\n",
    "            for splitted_word_ in splitted_words:\n",
    "                new_word_list.append(splitted_word_)\n",
    "        else:\n",
    "            new_word_list.append(word)\n",
    "    return new_word_list\n",
    "\n",
    "def load_data():\n",
    "    dataframe = pd.read_csv(url_geoservices_CH_csv, usecols=fields_to_include)\n",
    "    return dataframe"
   ]
  },
  {
   "cell_type": "code",
   "execution_count": 4,
   "metadata": {},
   "outputs": [],
   "source": [
    "res = split_delimiters(shlex.split(a))\n",
    "dataframe_some_cols = load_data()\n",
    "result = dataframe_some_cols[dataframe_some_cols.apply(lambda dataset: dataset.astype(str).str.contains(res[0], case=False).any(), axis=1)]\n",
    "result =result.fillna(\"empty\")"
   ]
  },
  {
   "attachments": {},
   "cell_type": "markdown",
   "metadata": {},
   "source": [
    "### TF-IDF ranking of the abstract"
   ]
  },
  {
   "cell_type": "code",
   "execution_count": 9,
   "metadata": {},
   "outputs": [],
   "source": [
    "result['tfidf'] = result.apply(lambda row: utils.ranking_tfidf(row['ABSTRACT']), axis=1)\n"
   ]
  },
  {
   "cell_type": "code",
   "execution_count": 19,
   "metadata": {},
   "outputs": [
    {
     "data": {
      "text/html": [
       "<div>\n",
       "<style scoped>\n",
       "    .dataframe tbody tr th:only-of-type {\n",
       "        vertical-align: middle;\n",
       "    }\n",
       "\n",
       "    .dataframe tbody tr th {\n",
       "        vertical-align: top;\n",
       "    }\n",
       "\n",
       "    .dataframe thead th {\n",
       "        text-align: right;\n",
       "    }\n",
       "</style>\n",
       "<table border=\"1\" class=\"dataframe\">\n",
       "  <thead>\n",
       "    <tr style=\"text-align: right;\">\n",
       "      <th></th>\n",
       "      <th>OWNER</th>\n",
       "      <th>TITLE</th>\n",
       "      <th>ABSTRACT</th>\n",
       "      <th>KEYWORDS</th>\n",
       "      <th>SERVICELINK</th>\n",
       "      <th>SERVICETYPE</th>\n",
       "      <th>tfidf</th>\n",
       "    </tr>\n",
       "  </thead>\n",
       "  <tbody>\n",
       "    <tr>\n",
       "      <th>0</th>\n",
       "      <td>KT_AI</td>\n",
       "      <td>Abwasser Werkplan Gde</td>\n",
       "      <td>Diese Karte zeigt die Werkleitungen der Abwass...</td>\n",
       "      <td>empty</td>\n",
       "      <td>https://www.geoportal.ch/services/wms/ktai?ser...</td>\n",
       "      <td>WMS</td>\n",
       "      <td>([(sowi, 0.54), (abwasserentsorgung, 0.5), (ka...</td>\n",
       "    </tr>\n",
       "    <tr>\n",
       "      <th>65</th>\n",
       "      <td>KT_AI</td>\n",
       "      <td>Hanglagen CH</td>\n",
       "      <td>Geodaten des Bundesamtes für Strassen, als WMS...</td>\n",
       "      <td>empty</td>\n",
       "      <td>https://www.geoportal.ch/services/wms/ktai?ser...</td>\n",
       "      <td>WMS</td>\n",
       "      <td>([(hangneigungsklassen, 0.88), (datensatz, 0.8...</td>\n",
       "    </tr>\n",
       "    <tr>\n",
       "      <th>66</th>\n",
       "      <td>KT_AI</td>\n",
       "      <td>Hauptstrassennetz CH</td>\n",
       "      <td>Geodaten des Bundesamtes für Strassen, als WMS...</td>\n",
       "      <td>empty</td>\n",
       "      <td>https://www.geoportal.ch/services/wms/ktai?ser...</td>\n",
       "      <td>WMS</td>\n",
       "      <td>([(strassen, 0.78), (wm, 0.7), (hauptstrassen,...</td>\n",
       "    </tr>\n",
       "    <tr>\n",
       "      <th>68</th>\n",
       "      <td>KT_AI</td>\n",
       "      <td>Höhenkurven Kt</td>\n",
       "      <td>Diese Karte beinhaltet die Höhenkurven mit ein...</td>\n",
       "      <td>empty</td>\n",
       "      <td>https://www.geoportal.ch/services/wms/ktai?ser...</td>\n",
       "      <td>WMS</td>\n",
       "      <td>([(höhenkurven, 0.84), (auswertung, 0.47), (be...</td>\n",
       "    </tr>\n",
       "    <tr>\n",
       "      <th>70</th>\n",
       "      <td>KT_AI</td>\n",
       "      <td>IVS Geländekarte CH</td>\n",
       "      <td>Geodaten des Bundesamtes für Strassen, als WMS...</td>\n",
       "      <td>empty</td>\n",
       "      <td>https://www.geoportal.ch/services/wms/ktai?ser...</td>\n",
       "      <td>WMS</td>\n",
       "      <td>([(viv, 0.85), (geführt, 0.77), (wm, 0.71), (k...</td>\n",
       "    </tr>\n",
       "  </tbody>\n",
       "</table>\n",
       "</div>"
      ],
      "text/plain": [
       "    OWNER                  TITLE  \\\n",
       "0   KT_AI  Abwasser Werkplan Gde   \n",
       "65  KT_AI           Hanglagen CH   \n",
       "66  KT_AI   Hauptstrassennetz CH   \n",
       "68  KT_AI         Höhenkurven Kt   \n",
       "70  KT_AI    IVS Geländekarte CH   \n",
       "\n",
       "                                             ABSTRACT KEYWORDS  \\\n",
       "0   Diese Karte zeigt die Werkleitungen der Abwass...    empty   \n",
       "65  Geodaten des Bundesamtes für Strassen, als WMS...    empty   \n",
       "66  Geodaten des Bundesamtes für Strassen, als WMS...    empty   \n",
       "68  Diese Karte beinhaltet die Höhenkurven mit ein...    empty   \n",
       "70  Geodaten des Bundesamtes für Strassen, als WMS...    empty   \n",
       "\n",
       "                                          SERVICELINK SERVICETYPE  \\\n",
       "0   https://www.geoportal.ch/services/wms/ktai?ser...         WMS   \n",
       "65  https://www.geoportal.ch/services/wms/ktai?ser...         WMS   \n",
       "66  https://www.geoportal.ch/services/wms/ktai?ser...         WMS   \n",
       "68  https://www.geoportal.ch/services/wms/ktai?ser...         WMS   \n",
       "70  https://www.geoportal.ch/services/wms/ktai?ser...         WMS   \n",
       "\n",
       "                                                tfidf  \n",
       "0   ([(sowi, 0.54), (abwasserentsorgung, 0.5), (ka...  \n",
       "65  ([(hangneigungsklassen, 0.88), (datensatz, 0.8...  \n",
       "66  ([(strassen, 0.78), (wm, 0.7), (hauptstrassen,...  \n",
       "68  ([(höhenkurven, 0.84), (auswertung, 0.47), (be...  \n",
       "70  ([(viv, 0.85), (geführt, 0.77), (wm, 0.71), (k...  "
      ]
     },
     "execution_count": 19,
     "metadata": {},
     "output_type": "execute_result"
    }
   ],
   "source": [
    "result.head()"
   ]
  },
  {
   "cell_type": "code",
   "execution_count": 16,
   "metadata": {},
   "outputs": [
    {
     "data": {
      "text/plain": [
       "('Geodaten des Bundesamtes für Strassen, als WMS der swisstopo bezogen. Die Geländekarte stellt die kartografische Grundlage der Ersterfassung des Inventars dar. Sie beinhaltet ergänzende Angaben zu den Objekten nach Artikel 3 der Verordnung über das Bundesinventar der historischen Verkehrswege der Schweiz VIVS sowie zu den Objekten von regionaler und lokaler Bedeutung. Die Geländekarte wird vorerst nicht nachgeführt und deshalb nur als Zusatzinformation in der elektronischen Publikation sowie als gesonderte Karte in der gedruckten Ausgabe (vgl. Art. 4 VIVS) geführt. Der Kanton Solothurn hat für die Neubeurteilung der Objekte von regionaler/lokaler Bedeutung die Geländekarten überarbeitet. Diese überarbeiteten Versionen sind im vorliegenden Datensatz enthalten. WMS Service Geoportal - Kanton Appenzell Innerrhoden',\n",
       " ([('viv', 0.85),\n",
       "   ('geführt', 0.77),\n",
       "   ('wm', 0.71),\n",
       "   ('kanton', 0.65),\n",
       "   ('geländekart', 0.55),\n",
       "   ('bedeutung', 0.5),\n",
       "   ('lokal', 0.5),\n",
       "   ('objekten', 0.49),\n",
       "   ('datensatz', 0.45),\n",
       "   ('enthalten', 0.45),\n",
       "   ('versionen', 0.45),\n",
       "   ('vorliegenden', 0.45),\n",
       "   ('überarbeiteten', 0.45),\n",
       "   ('appenzel', 0.43),\n",
       "   ('geoport', 0.43),\n",
       "   ('innerrhoden', 0.43),\n",
       "   ('servic', 0.43),\n",
       "   ('sowi', 0.43),\n",
       "   ('bezogen', 0.42),\n",
       "   ('bundesamt', 0.42),\n",
       "   ('geodaten', 0.42),\n",
       "   ('strassen', 0.42),\n",
       "   ('swisstopo', 0.42),\n",
       "   ('dar', 0.39),\n",
       "   ('ersterfassung', 0.39),\n",
       "   ('grundlag', 0.39),\n",
       "   ('inventar', 0.39),\n",
       "   ('kartografisch', 0.39),\n",
       "   ('stellt', 0.39),\n",
       "   ('geländekarten', 0.35),\n",
       "   ('neubeurteilung', 0.35),\n",
       "   ('objekt', 0.35),\n",
       "   ('regionaler', 0.35),\n",
       "   ('solothurn', 0.35),\n",
       "   ('überarbeitet', 0.35),\n",
       "   ('art', 0.27),\n",
       "   ('ausgab', 0.27),\n",
       "   ('deshalb', 0.27),\n",
       "   ('elektronischen', 0.27),\n",
       "   ('gedruckten', 0.27),\n",
       "   ('gesondert', 0.27),\n",
       "   ('kart', 0.27),\n",
       "   ('nachgeführt', 0.27),\n",
       "   ('publik', 0.27),\n",
       "   ('vgl', 0.27),\n",
       "   ('vorerst', 0.27),\n",
       "   ('zusatzinform', 0.27),\n",
       "   ('angaben', 0.24),\n",
       "   ('artikel', 0.24),\n",
       "   ('beinhaltet', 0.24),\n",
       "   ('bundesinventar', 0.24),\n",
       "   ('ergänzend', 0.24),\n",
       "   ('historischen', 0.24),\n",
       "   ('regional', 0.24),\n",
       "   ('schweiz', 0.24),\n",
       "   ('verkehrsweg', 0.24),\n",
       "   ('verordnung', 0.24)],\n",
       "  'german'))"
      ]
     },
     "execution_count": 16,
     "metadata": {},
     "output_type": "execute_result"
    }
   ],
   "source": [
    "id = 70\n",
    "result.loc[id]['ABSTRACT'], result.loc[id]['tfidf']"
   ]
  },
  {
   "cell_type": "code",
   "execution_count": 17,
   "metadata": {},
   "outputs": [
    {
     "data": {
      "text/plain": [
       "('Geodaten des Bundesamtes für Strassen, als WMS der swisstopo bezogen. Die Geländekarte stellt die kartografische Grundlage der Ersterfassung des Inventars dar. Sie beinhaltet ergänzende Angaben zu den Objekten nach Artikel 3 der Verordnung über das Bundesinventar der historischen Verkehrswege der Schweiz VIVS sowie zu den Objekten von regionaler und lokaler Bedeutung. Die Geländekarte wird vorerst nicht nachgeführt und deshalb nur als Zusatzinformation in der elektronischen Publikation sowie als gesonderte Karte in der gedruckten Ausgabe (vgl. Art. 4 VIVS) geführt. Der Kanton Solothurn hat für die Neubeurteilung der Objekte von regionaler/lokaler Bedeutung die Geländekarten überarbeitet. Diese überarbeiteten Versionen sind im vorliegenden Datensatz enthalten. WMS Service Geoportal - Kanton Appenzell Innerrhoden',\n",
       " ([('viv', 0.85),\n",
       "   ('geführt', 0.77),\n",
       "   ('wm', 0.71),\n",
       "   ('kanton', 0.65),\n",
       "   ('geländekart', 0.55),\n",
       "   ('bedeutung', 0.5),\n",
       "   ('lokal', 0.5),\n",
       "   ('objekten', 0.49),\n",
       "   ('datensatz', 0.45),\n",
       "   ('enthalten', 0.45),\n",
       "   ('versionen', 0.45),\n",
       "   ('vorliegenden', 0.45),\n",
       "   ('überarbeiteten', 0.45),\n",
       "   ('appenzel', 0.43),\n",
       "   ('geoport', 0.43),\n",
       "   ('innerrhoden', 0.43),\n",
       "   ('servic', 0.43),\n",
       "   ('sowi', 0.43),\n",
       "   ('bezogen', 0.42),\n",
       "   ('bundesamt', 0.42),\n",
       "   ('geodaten', 0.42),\n",
       "   ('strassen', 0.42),\n",
       "   ('swisstopo', 0.42),\n",
       "   ('dar', 0.39),\n",
       "   ('ersterfassung', 0.39),\n",
       "   ('grundlag', 0.39),\n",
       "   ('inventar', 0.39),\n",
       "   ('kartografisch', 0.39),\n",
       "   ('stellt', 0.39),\n",
       "   ('geländekarten', 0.35),\n",
       "   ('neubeurteilung', 0.35),\n",
       "   ('objekt', 0.35),\n",
       "   ('regionaler', 0.35),\n",
       "   ('solothurn', 0.35),\n",
       "   ('überarbeitet', 0.35),\n",
       "   ('art', 0.27),\n",
       "   ('ausgab', 0.27),\n",
       "   ('deshalb', 0.27),\n",
       "   ('elektronischen', 0.27),\n",
       "   ('gedruckten', 0.27),\n",
       "   ('gesondert', 0.27),\n",
       "   ('kart', 0.27),\n",
       "   ('nachgeführt', 0.27),\n",
       "   ('publik', 0.27),\n",
       "   ('vgl', 0.27),\n",
       "   ('vorerst', 0.27),\n",
       "   ('zusatzinform', 0.27),\n",
       "   ('angaben', 0.24),\n",
       "   ('artikel', 0.24),\n",
       "   ('beinhaltet', 0.24),\n",
       "   ('bundesinventar', 0.24),\n",
       "   ('ergänzend', 0.24),\n",
       "   ('historischen', 0.24),\n",
       "   ('regional', 0.24),\n",
       "   ('schweiz', 0.24),\n",
       "   ('verkehrsweg', 0.24),\n",
       "   ('verordnung', 0.24)],\n",
       "  'german'),\n",
       " 'empty',\n",
       " 'IVS Geländekarte CH')"
      ]
     },
     "execution_count": 17,
     "metadata": {},
     "output_type": "execute_result"
    }
   ],
   "source": [
    "result.loc[id]['ABSTRACT'], result.loc[id]['tfidf'], result.loc[id]['KEYWORDS'], result.loc[id]['TITLE']"
   ]
  },
  {
   "cell_type": "code",
   "execution_count": null,
   "metadata": {},
   "outputs": [],
   "source": []
  },
  {
   "attachments": {},
   "cell_type": "markdown",
   "metadata": {},
   "source": [
    "### Improvement of the TF-IDF with BM25 to execute a query on the text"
   ]
  },
  {
   "cell_type": "code",
   "execution_count": 5,
   "metadata": {},
   "outputs": [],
   "source": [
    "# abstracts = result['ABSTRACT'].values.tolist()\n",
    "\n",
    "bm25 = utils.TFIDF_BM25()\n",
    "results = bm25.cleansing_ranking(result) # 1421 lines in 36 s"
   ]
  },
  {
   "cell_type": "code",
   "execution_count": 6,
   "metadata": {},
   "outputs": [
    {
     "name": "stdout",
     "output_type": "stream",
     "text": [
      "  (0, 2585)\t1.0\n"
     ]
    }
   ],
   "source": [
    "# results[15]['word'].tolist()\n",
    "# [' '.join(abstract['word'].tolist()) for abstract in results]\n",
    "\n",
    "bm25.fit(results)\n",
    "res = bm25.transform('Brandmeldeanlage mit Produkte')"
   ]
  },
  {
   "cell_type": "code",
   "execution_count": 7,
   "metadata": {},
   "outputs": [
    {
     "data": {
      "text/plain": [
       "[543, 544, 545]"
      ]
     },
     "execution_count": 7,
     "metadata": {},
     "output_type": "execute_result"
    }
   ],
   "source": [
    "np.where(res > 0)[0].tolist()\n",
    "#filter(lambda x: x)"
   ]
  },
  {
   "cell_type": "code",
   "execution_count": 25,
   "metadata": {},
   "outputs": [
    {
     "data": {
      "text/plain": [
       "65"
      ]
     },
     "execution_count": 25,
     "metadata": {},
     "output_type": "execute_result"
    }
   ],
   "source": [
    "result.index.values[1]"
   ]
  },
  {
   "cell_type": "code",
   "execution_count": 17,
   "metadata": {},
   "outputs": [
    {
     "data": {
      "text/html": [
       "<div>\n",
       "<style scoped>\n",
       "    .dataframe tbody tr th:only-of-type {\n",
       "        vertical-align: middle;\n",
       "    }\n",
       "\n",
       "    .dataframe tbody tr th {\n",
       "        vertical-align: top;\n",
       "    }\n",
       "\n",
       "    .dataframe thead th {\n",
       "        text-align: right;\n",
       "    }\n",
       "</style>\n",
       "<table border=\"1\" class=\"dataframe\">\n",
       "  <thead>\n",
       "    <tr style=\"text-align: right;\">\n",
       "      <th></th>\n",
       "      <th>word</th>\n",
       "      <th>tfidf</th>\n",
       "    </tr>\n",
       "  </thead>\n",
       "  <tbody>\n",
       "    <tr>\n",
       "      <th>0</th>\n",
       "      <td>gewasserraum</td>\n",
       "      <td>2.23</td>\n",
       "    </tr>\n",
       "    <tr>\n",
       "      <th>1</th>\n",
       "      <td>wurd</td>\n",
       "      <td>1.92</td>\n",
       "    </tr>\n",
       "    <tr>\n",
       "      <th>2</th>\n",
       "      <td>geoprodukt</td>\n",
       "      <td>1.49</td>\n",
       "    </tr>\n",
       "    <tr>\n",
       "      <th>3</th>\n",
       "      <td>grundbuchkreis</td>\n",
       "      <td>1.47</td>\n",
       "    </tr>\n",
       "    <tr>\n",
       "      <th>4</th>\n",
       "      <td>nutzungseinschrank</td>\n",
       "      <td>1.38</td>\n",
       "    </tr>\n",
       "    <tr>\n",
       "      <th>...</th>\n",
       "      <td>...</td>\n",
       "      <td>...</td>\n",
       "    </tr>\n",
       "    <tr>\n",
       "      <th>107</th>\n",
       "      <td>20</td>\n",
       "      <td>0.16</td>\n",
       "    </tr>\n",
       "    <tr>\n",
       "      <th>108</th>\n",
       "      <td>gewasserschutzverordn</td>\n",
       "      <td>0.16</td>\n",
       "    </tr>\n",
       "    <tr>\n",
       "      <th>109</th>\n",
       "      <td>gschv</td>\n",
       "      <td>0.16</td>\n",
       "    </tr>\n",
       "    <tr>\n",
       "      <th>110</th>\n",
       "      <td>national</td>\n",
       "      <td>0.16</td>\n",
       "    </tr>\n",
       "    <tr>\n",
       "      <th>111</th>\n",
       "      <td>ubergangsbestimm</td>\n",
       "      <td>0.16</td>\n",
       "    </tr>\n",
       "  </tbody>\n",
       "</table>\n",
       "<p>112 rows × 2 columns</p>\n",
       "</div>"
      ],
      "text/plain": [
       "                      word  tfidf\n",
       "0             gewasserraum   2.23\n",
       "1                     wurd   1.92\n",
       "2               geoprodukt   1.49\n",
       "3           grundbuchkreis   1.47\n",
       "4       nutzungseinschrank   1.38\n",
       "..                     ...    ...\n",
       "107                     20   0.16\n",
       "108  gewasserschutzverordn   0.16\n",
       "109                  gschv   0.16\n",
       "110               national   0.16\n",
       "111       ubergangsbestimm   0.16\n",
       "\n",
       "[112 rows x 2 columns]"
      ]
     },
     "execution_count": 17,
     "metadata": {},
     "output_type": "execute_result"
    }
   ],
   "source": [
    "results[543]"
   ]
  },
  {
   "cell_type": "code",
   "execution_count": null,
   "metadata": {},
   "outputs": [],
   "source": []
  }
 ],
 "metadata": {
  "kernelspec": {
   "display_name": "geoharvester",
   "language": "python",
   "name": "python3"
  },
  "language_info": {
   "codemirror_mode": {
    "name": "ipython",
    "version": 3
   },
   "file_extension": ".py",
   "mimetype": "text/x-python",
   "name": "python",
   "nbconvert_exporter": "python",
   "pygments_lexer": "ipython3",
   "version": "3.9.16"
  },
  "orig_nbformat": 4,
  "vscode": {
   "interpreter": {
    "hash": "8c031072c482ff12c1b8627010cd074fb6af482daeb686bcc3fbabf1c7aa304d"
   }
  }
 },
 "nbformat": 4,
 "nbformat_minor": 2
}
