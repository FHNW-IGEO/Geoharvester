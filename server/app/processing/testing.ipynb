{
 "cells": [
  {
   "attachments": {},
   "cell_type": "markdown",
   "metadata": {},
   "source": [
    "### Load packages and sample data"
   ]
  },
  {
   "cell_type": "code",
   "execution_count": 1,
   "metadata": {},
   "outputs": [],
   "source": [
    "import shlex\n",
    "import re\n",
    "import pandas as pd\n",
    "import numpy as np\n",
    "from typing import List\n",
    "import utils"
   ]
  },
  {
   "cell_type": "code",
   "execution_count": 2,
   "metadata": {},
   "outputs": [],
   "source": [
    "fields_to_include = [\"OWNER\",\"TITLE\", \"ABSTRACT\", \"SERVICETYPE\", \"SERVICELINK\", \"KEYWORDS\"]\n",
    "fields_to_output = [\"OWNER\",\"TITLE\", \"SERVICETYPE\", \"SERVICELINK\"]\n",
    "url_github_repo = \"https://github.com/davidoesch/geoservice_harvester_poc/blob/main/data/\"\n",
    "url_github_repo_suffix = \"?raw=true\"\n",
    "url_geoservices_CH_csv = \"{}geoservices_CH.csv{}\".format(url_github_repo,url_github_repo_suffix)\n",
    "a = 'Strassen auswertung system'\n",
    "\n",
    "def split_delimiters(word_list_with_delimiters: List[str]) -> List[str]:\n",
    "    \"\"\"Take care of left over delimiters, split strings even if in qoutes\n",
    "        Return a list of words \"\"\"\n",
    "    delimiters = [\";\", \",\"]\n",
    "\n",
    "    new_word_list = []\n",
    "\n",
    "    for word in word_list_with_delimiters:\n",
    "        if (any(delimiter in word for delimiter in delimiters)):\n",
    "            splitted_words = re.split(r',|;', word)\n",
    "            for splitted_word_ in splitted_words:\n",
    "                new_word_list.append(splitted_word_)\n",
    "        else:\n",
    "            new_word_list.append(word)\n",
    "    return new_word_list\n",
    "\n",
    "def load_data():\n",
    "    dataframe = pd.read_csv(url_geoservices_CH_csv, usecols=fields_to_include)\n",
    "    return dataframe\n",
    "\n",
    "res = split_delimiters(shlex.split(a))\n",
    "dataframe_some_cols = load_data()\n",
    "result = dataframe_some_cols[dataframe_some_cols.apply(lambda dataset: dataset.astype(str).str.contains(res[0], case=False).any(), axis=1)]\n",
    "database =result.fillna(\"empty\")"
   ]
  },
  {
   "attachments": {},
   "cell_type": "markdown",
   "metadata": {},
   "source": [
    "### Improvement of the TF-IDF with BM25 to execute a query on the text"
   ]
  },
  {
   "cell_type": "code",
   "execution_count": 5,
   "metadata": {},
   "outputs": [],
   "source": [
    "# abstracts = result['ABSTRACT'].values.tolist()\n",
    "bm25 = utils.TFIDF_BM25()\n",
    "bm25.cleansing_ranking(database, column='ABSTRACT') # 1421 lines in 36 s"
   ]
  },
  {
   "cell_type": "code",
   "execution_count": 6,
   "metadata": {},
   "outputs": [],
   "source": [
    "# fit the vector to the database\n",
    "bm25.fit()\n",
    "# search the best match in the vector\n",
    "res = bm25.search('Brandmeldeanlage')"
   ]
  },
  {
   "cell_type": "code",
   "execution_count": 7,
   "metadata": {},
   "outputs": [
    {
     "name": "stdout",
     "output_type": "stream",
     "text": [
      "OWNER                                                      KT_AR\n",
      "TITLE                                          Feuerwehrplan Gde\n",
      "ABSTRACT       Der Übersichtsplan der Feuerwehr enthält folge...\n",
      "KEYWORDS                                                     NaN\n",
      "SERVICELINK    https://www.geoportal.ch/services/wms/ktar?ser...\n",
      "SERVICETYPE                                                  WMS\n",
      "Name: 224, dtype: object\n"
     ]
    }
   ],
   "source": [
    "for el in res:\n",
    "    print(result.loc[el])"
   ]
  },
  {
   "cell_type": "code",
   "execution_count": null,
   "metadata": {},
   "outputs": [],
   "source": []
  },
  {
   "attachments": {},
   "cell_type": "markdown",
   "metadata": {},
   "source": [
    "### Keyword extraction with rake_nltk"
   ]
  },
  {
   "cell_type": "code",
   "execution_count": 3,
   "metadata": {},
   "outputs": [],
   "source": [
    "rake = utils.KeywordsRake()\n",
    "keywords = rake.extract_keywords(database, column='ABSTRACT', score=False, keyword_length=3)\n"
   ]
  },
  {
   "cell_type": "code",
   "execution_count": 6,
   "metadata": {},
   "outputs": [
    {
     "data": {
      "text/plain": [
       "['wms service geoportal',\n",
       " 'kanton appenzell innerrhoden',\n",
       " 'meteorwasser sowie versickerungsanlagen',\n",
       " 'karte zeigt',\n",
       " 'kanalisationsnetz dargestellt',\n",
       " 'darin ersichtlich',\n",
       " 'sowie',\n",
       " 'ölabscheider']"
      ]
     },
     "execution_count": 6,
     "metadata": {},
     "output_type": "execute_result"
    }
   ],
   "source": [
    "keywords[0][:8]"
   ]
  },
  {
   "cell_type": "code",
   "execution_count": 7,
   "metadata": {},
   "outputs": [
    {
     "data": {
      "text/plain": [
       "'Diese Karte zeigt die Werkleitungen der Abwasserentsorgung an. Es wird die Strassenentwässerung und Liegenschaftsentwässerung (teilweise mit Hausanschluss) sowie das Kanalisationsnetz dargestellt. Darin ersichtlich sind unter anderem Leitungen mit Schmutzabwasser, Mischabwasser, Regenabwasser, Meteorwasser sowie Versickerungsanlagen, Kontrollschächte, Einlaufschächte und Ölabscheider. WMS Service Geoportal - Kanton Appenzell Innerrhoden'"
      ]
     },
     "execution_count": 7,
     "metadata": {},
     "output_type": "execute_result"
    }
   ],
   "source": [
    "database['ABSTRACT'].values.tolist()[0]"
   ]
  },
  {
   "attachments": {},
   "cell_type": "markdown",
   "metadata": {},
   "source": [
    "### Test LSA and LSI with gensim"
   ]
  },
  {
   "cell_type": "code",
   "execution_count": 32,
   "metadata": {},
   "outputs": [
    {
     "name": "stdout",
     "output_type": "stream",
     "text": [
      "[^\\w\\s]\n"
     ]
    }
   ],
   "source": []
  },
  {
   "attachments": {},
   "cell_type": "markdown",
   "metadata": {},
   "source": [
    "### Implement the classification with spacy and NLP"
   ]
  },
  {
   "cell_type": "code",
   "execution_count": 3,
   "metadata": {},
   "outputs": [],
   "source": [
    "NLP = utils.NLP_spacy()\n",
    "keywords = NLP.extract_keywords(database, column='ABSTRACT') # with small models"
   ]
  },
  {
   "cell_type": "code",
   "execution_count": 13,
   "metadata": {},
   "outputs": [
    {
     "data": {
      "text/plain": [
       "[Bundesamtes für Strassen,,\n",
       " swisstopo bezogen.,\n",
       " Hauptstrassen,\n",
       " schweizerischer,\n",
       " Hauptstrassen,\n",
       " Hauptstrassen,\n",
       " Sachverhalten,\n",
       " Strassen,\n",
       " Geoportal]"
      ]
     },
     "execution_count": 13,
     "metadata": {},
     "output_type": "execute_result"
    }
   ],
   "source": [
    "keywords[2]"
   ]
  },
  {
   "cell_type": "code",
   "execution_count": 14,
   "metadata": {},
   "outputs": [
    {
     "data": {
      "text/plain": [
       "'Geodaten des Bundesamtes für Strassen, als WMS der swisstopo bezogen. Der Datensatz der Hauptstrassen umfasst Strassen von allgemein schweizerischer oder internationaler Bedeutung, die nicht als Nationalstrasse definiert sind. Hauptstrassen stellen sowohl die Durchleitung des nationalen und internationalen Verkehrs, als auch die wichtigsten regionalen Verbindungen sicher. Die Achsen der Hauptstrassen können für die Beschreibung und die Referenzierung von Sachverhalten entlang der Strassen verwendet werden. WMS Service Geoportal - Kanton Appenzell Innerrhoden'"
      ]
     },
     "execution_count": 14,
     "metadata": {},
     "output_type": "execute_result"
    }
   ],
   "source": [
    "database['ABSTRACT'].values.tolist()[2]"
   ]
  },
  {
   "cell_type": "code",
   "execution_count": null,
   "metadata": {},
   "outputs": [],
   "source": []
  }
 ],
 "metadata": {
  "kernelspec": {
   "display_name": "geoharvester",
   "language": "python",
   "name": "python3"
  },
  "language_info": {
   "codemirror_mode": {
    "name": "ipython",
    "version": 3
   },
   "file_extension": ".py",
   "mimetype": "text/x-python",
   "name": "python",
   "nbconvert_exporter": "python",
   "pygments_lexer": "ipython3",
   "version": "3.9.16"
  },
  "orig_nbformat": 4,
  "vscode": {
   "interpreter": {
    "hash": "8c031072c482ff12c1b8627010cd074fb6af482daeb686bcc3fbabf1c7aa304d"
   }
  }
 },
 "nbformat": 4,
 "nbformat_minor": 2
}
