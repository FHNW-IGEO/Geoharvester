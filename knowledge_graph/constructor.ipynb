{
 "cells": [
  {
   "cell_type": "markdown",
   "metadata": {},
   "source": [
    "#### Load modules"
   ]
  },
  {
   "cell_type": "code",
   "execution_count": 2,
   "metadata": {},
   "outputs": [
    {
     "name": "stderr",
     "output_type": "stream",
     "text": [
      "c:\\Users\\ma1021525\\Anaconda3\\envs\\geoharvester\\lib\\site-packages\\torch\\__init__.py:749: UserWarning: torch.set_default_tensor_type() is deprecated as of PyTorch 2.1, please use torch.set_default_dtype() and torch.set_default_device() as alternatives. (Triggered internally at C:\\actions-runner\\_work\\pytorch\\pytorch\\builder\\windows\\pytorch\\torch\\csrc\\tensor\\python_tensor.cpp:433.)\n",
      "  _C._set_default_tensor_type(t)\n"
     ]
    }
   ],
   "source": [
    "import pandas as pd\n",
    "import sys, os\n",
    "from gpt4all import GPT4All\n",
    "from tqdm import tqdm\n",
    "import re\n",
    "from deep_translator import GoogleTranslator\n",
    "\n",
    "sys.path.append(\"\\\\\".join(os.getcwd().split(\"\\\\\")[:-1]))\n",
    "%load_ext autoreload\n",
    "%autoreload 2\n",
    "from utils import *\n",
    "from scraper import utils"
   ]
  },
  {
   "cell_type": "markdown",
   "metadata": {},
   "source": [
    "#### Import data and language model"
   ]
  },
  {
   "cell_type": "code",
   "execution_count": 3,
   "metadata": {},
   "outputs": [],
   "source": [
    "data = pd.read_pickle(os.path.join(\"/\".join(os.getcwd().split(\"\\\\\")[:-1]),\n",
    "                                   'preprocessing','data/merged_data.pkl'))\n",
    "# define the language model (Llama with 8 billion parameters is about 4.66 GB)\n",
    "model = GPT4All('Meta-Llama-3-8B-Instruct.Q4_0.gguf')"
   ]
  },
  {
   "cell_type": "markdown",
   "metadata": {},
   "source": [
    "#### Clean the database"
   ]
  },
  {
   "cell_type": "code",
   "execution_count": 4,
   "metadata": {},
   "outputs": [
    {
     "name": "stderr",
     "output_type": "stream",
     "text": [
      "c:\\Users\\ma1021525\\Anaconda3\\envs\\geoharvester\\lib\\site-packages\\pandas\\core\\dtypes\\cast.py:1641: DeprecationWarning: np.find_common_type is deprecated.  Please use `np.result_type` or `np.promote_types`.\n",
      "See https://numpy.org/devdocs/release/1.25.0-notes.html and the docs for more information.  (Deprecated NumPy 1.25)\n",
      "  return np.find_common_type(types, [])\n",
      "c:\\Users\\ma1021525\\Anaconda3\\envs\\geoharvester\\lib\\site-packages\\pandas\\core\\dtypes\\cast.py:1641: DeprecationWarning: np.find_common_type is deprecated.  Please use `np.result_type` or `np.promote_types`.\n",
      "See https://numpy.org/devdocs/release/1.25.0-notes.html and the docs for more information.  (Deprecated NumPy 1.25)\n",
      "  return np.find_common_type(types, [])\n",
      "c:\\Users\\ma1021525\\Anaconda3\\envs\\geoharvester\\lib\\site-packages\\pandas\\core\\dtypes\\cast.py:1641: DeprecationWarning: np.find_common_type is deprecated.  Please use `np.result_type` or `np.promote_types`.\n",
      "See https://numpy.org/devdocs/release/1.25.0-notes.html and the docs for more information.  (Deprecated NumPy 1.25)\n",
      "  return np.find_common_type(types, [])\n",
      "c:\\Users\\ma1021525\\Anaconda3\\envs\\geoharvester\\lib\\site-packages\\pandas\\core\\dtypes\\cast.py:1641: DeprecationWarning: np.find_common_type is deprecated.  Please use `np.result_type` or `np.promote_types`.\n",
      "See https://numpy.org/devdocs/release/1.25.0-notes.html and the docs for more information.  (Deprecated NumPy 1.25)\n",
      "  return np.find_common_type(types, [])\n"
     ]
    }
   ],
   "source": [
    "language_dict = {'english':('EN', 'ENG'), 'french':('FR','FRA'), 'german':('DE','DEU'), 'italian':('IT','ITA'), 'not_found':('NA','NAN')}\n",
    "data['lang_3'] = data.apply(lambda row: language_dict[detect_language(row['abstract'], not_found=True)][1], axis=1)\n",
    "data['lang_2'] = data.apply(lambda row: language_dict[detect_language(row['abstract'], not_found=True)][0], axis=1)\n",
    "# for idx, row in data.iterrows():\n",
    "#     if row['abstract'] != 'nan':\n",
    "#         if language_dict[detect_language(row['abstract_it'])][1] != 'ITA':\n",
    "#             trnd = GoogleTranslator(source='auto', target='ita').translate(row['abstract'])\n",
    "#             data.loc[idx, 'abstract_it'] = trnd\n",
    "#         if language_dict[detect_language(row['abstract_de'])][1] != 'DEU':\n",
    "#             trnd = GoogleTranslator(source='auto', target='de').translate(row['abstract'])\n",
    "#             data.loc[idx, 'abstract_de'] = trnd\n",
    "#         if language_dict[detect_language(row['abstract_fr'])][1] != 'FRA':\n",
    "#             trnd = GoogleTranslator(source='auto', target='fr').translate(row['abstract'])\n",
    "#             data.loc[idx, 'abstract_fr'] = trnd\n",
    "#         if language_dict[detect_language(row['abstract_en'])][1] != 'ENG':\n",
    "#             trnd = GoogleTranslator(source='auto', target='en').translate(row['abstract'])\n",
    "#             data.loc[idx, 'abstract_en'] = trnd"
   ]
  },
  {
   "cell_type": "markdown",
   "metadata": {},
   "source": [
    "#### Extract keywords with a local Llama model"
   ]
  },
  {
   "cell_type": "code",
   "execution_count": 13,
   "metadata": {},
   "outputs": [
    {
     "name": "stderr",
     "output_type": "stream",
     "text": [
      "c:\\Users\\ma1021525\\Anaconda3\\envs\\geoharvester\\lib\\site-packages\\pandas\\core\\dtypes\\cast.py:1641: DeprecationWarning: np.find_common_type is deprecated.  Please use `np.result_type` or `np.promote_types`.\n",
      "See https://numpy.org/devdocs/release/1.25.0-notes.html and the docs for more information.  (Deprecated NumPy 1.25)\n",
      "  return np.find_common_type(types, [])\n",
      "c:\\Users\\ma1021525\\Anaconda3\\envs\\geoharvester\\lib\\site-packages\\pandas\\core\\dtypes\\cast.py:1641: DeprecationWarning: np.find_common_type is deprecated.  Please use `np.result_type` or `np.promote_types`.\n",
      "See https://numpy.org/devdocs/release/1.25.0-notes.html and the docs for more information.  (Deprecated NumPy 1.25)\n",
      "  return np.find_common_type(types, [])\n",
      "c:\\Users\\ma1021525\\Anaconda3\\envs\\geoharvester\\lib\\site-packages\\pandas\\core\\dtypes\\cast.py:1641: DeprecationWarning: np.find_common_type is deprecated.  Please use `np.result_type` or `np.promote_types`.\n",
      "See https://numpy.org/devdocs/release/1.25.0-notes.html and the docs for more information.  (Deprecated NumPy 1.25)\n",
      "  return np.find_common_type(types, [])\n",
      "c:\\Users\\ma1021525\\Anaconda3\\envs\\geoharvester\\lib\\site-packages\\pandas\\core\\dtypes\\cast.py:1641: DeprecationWarning: np.find_common_type is deprecated.  Please use `np.result_type` or `np.promote_types`.\n",
      "See https://numpy.org/devdocs/release/1.25.0-notes.html and the docs for more information.  (Deprecated NumPy 1.25)\n",
      "  return np.find_common_type(types, [])\n"
     ]
    },
    {
     "data": {
      "text/plain": [
       "5939"
      ]
     },
     "execution_count": 13,
     "metadata": {},
     "output_type": "execute_result"
    }
   ],
   "source": [
    "data['abstract_w_count'] = data.apply(lambda x: len(x['abstract'].split(' ')), axis=1)\n",
    "data.apply(lambda x: 'nan' if x['abstract'].startswith(('??','Es werden die Daten im Zeitraum','Link zu Metadaten:',\n",
    "                                                'https:',\n",
    "                                                'geo@bs.ch',\n",
    "                                                'info.geoportal@be.ch',\n",
    "                                                'sit@jura.ch',\n",
    "                                                'geodaten@sg.ch',\n",
    "                                                'info@example.com',\n",
    "                                                'agi@tg.ch',\n",
    "                                                'mail@lisag.ch',\n",
    "                                                'gis@bd.zh.ch',\n",
    "                                                'info.diffusion@vd.ch',\n",
    "                                                'webgis@swisstopo.ch'))\n",
    "                                                else x['abstract'], axis=1)\n",
    "len(data[(data['abstract'] != 'nan') &\n",
    "     (data['abstract'] != data['title']) &\n",
    "     (data['abstract_w_count']>4)])"
   ]
  },
  {
   "cell_type": "code",
   "execution_count": 15,
   "metadata": {},
   "outputs": [
    {
     "name": "stderr",
     "output_type": "stream",
     "text": [
      "0it [00:00, ?it/s]c:\\Users\\ma1021525\\Anaconda3\\envs\\geoharvester\\lib\\site-packages\\pandas\\core\\dtypes\\cast.py:1641: DeprecationWarning: np.find_common_type is deprecated.  Please use `np.result_type` or `np.promote_types`.\n",
      "See https://numpy.org/devdocs/release/1.25.0-notes.html and the docs for more information.  (Deprecated NumPy 1.25)\n",
      "  return np.find_common_type(types, [])\n",
      "2it [03:39, 111.17s/it]"
     ]
    },
    {
     "name": "stdout",
     "output_type": "stream",
     "text": [
      "Skipping differing translation lengths!\n"
     ]
    },
    {
     "name": "stderr",
     "output_type": "stream",
     "text": [
      "61it [1:12:09, 45.98s/it]"
     ]
    },
    {
     "name": "stdout",
     "output_type": "stream",
     "text": [
      "Skipping differing translation lengths!\n"
     ]
    },
    {
     "name": "stderr",
     "output_type": "stream",
     "text": [
      "75it [1:25:45, 56.59s/it]"
     ]
    },
    {
     "name": "stdout",
     "output_type": "stream",
     "text": [
      "Skipping differing translation lengths!\n"
     ]
    },
    {
     "name": "stderr",
     "output_type": "stream",
     "text": [
      "76it [1:27:11, 65.39s/it]"
     ]
    },
    {
     "name": "stdout",
     "output_type": "stream",
     "text": [
      "Skipping differing translation lengths!\n"
     ]
    },
    {
     "name": "stderr",
     "output_type": "stream",
     "text": [
      "78it [1:30:14, 77.17s/it]"
     ]
    },
    {
     "name": "stdout",
     "output_type": "stream",
     "text": [
      "Skipping differing translation lengths!\n"
     ]
    },
    {
     "name": "stderr",
     "output_type": "stream",
     "text": [
      "81it [1:33:18, 68.36s/it]"
     ]
    },
    {
     "name": "stdout",
     "output_type": "stream",
     "text": [
      "Skipping differing translation lengths!\n"
     ]
    },
    {
     "name": "stderr",
     "output_type": "stream",
     "text": [
      "83it [1:37:02, 92.51s/it]"
     ]
    },
    {
     "name": "stdout",
     "output_type": "stream",
     "text": [
      "Skipping differing translation lengths!\n"
     ]
    },
    {
     "name": "stderr",
     "output_type": "stream",
     "text": [
      "84it [1:39:17, 105.34s/it]"
     ]
    },
    {
     "name": "stdout",
     "output_type": "stream",
     "text": [
      "Skipping differing translation lengths!\n"
     ]
    },
    {
     "name": "stderr",
     "output_type": "stream",
     "text": [
      "87it [1:42:45, 84.20s/it] "
     ]
    },
    {
     "name": "stdout",
     "output_type": "stream",
     "text": [
      "Skipping differing translation lengths!\n"
     ]
    },
    {
     "name": "stderr",
     "output_type": "stream",
     "text": [
      "88it [1:44:24, 88.48s/it]"
     ]
    },
    {
     "name": "stdout",
     "output_type": "stream",
     "text": [
      "Skipping differing translation lengths!\n"
     ]
    },
    {
     "name": "stderr",
     "output_type": "stream",
     "text": [
      "39395it [1:57:41,  5.58it/s] \n"
     ]
    }
   ],
   "source": [
    "# iterate through the dataframe\n",
    "task = \"Extract a list of key words comma separated without adjectives in original language from the following text: \"\n",
    "en_trns_task = \"Translate the following list of words into a comma separated list in English: \"\n",
    "de_trns_task = \"Übersetze die folgende Liste von Wörtern in eine durch Komma getrennte Liste auf Deutsch: \"\n",
    "fr_trns_task = \"Traduisez la liste de mots suivante en une liste séparée par des virgules en francais: \"\n",
    "it_trns_task = \"Traduci il seguente elenco di parole in un elenco separato da virgole in italiano: \"\n",
    "\n",
    "df_kg = pd.DataFrame()\n",
    "\n",
    "for idx, row in tqdm(data.iterrows()):\n",
    "    if idx > 100:\n",
    "        continue\n",
    "    trns_dict = {\"ENG\":en_trns_task, \"DEU\":de_trns_task, \"ITA\":it_trns_task,'FRA':fr_trns_task}\n",
    "    if row['lang_3'] != 'NAN':\n",
    "        del trns_dict[row['lang_3']]\n",
    "    # filter rows with no abstract and use title instead\n",
    "    if row['abstract'] == 'nan' or row['abstract']==row['title'] or len(row['abstract'].split(' '))<5 or row['abstract'].startswith(('??',\n",
    "                                                                                                                                      'Es werden die Daten im Zeitraum',\n",
    "                                                                                                                                      'Link zu Metadaten:',\n",
    "                                                                                                                                      'https:',\n",
    "                                                                                                                                      'geo@bs.ch',\n",
    "                                                                                                                                      'info.geoportal@be.ch',\n",
    "                                                                                                                                      'sit@jura.ch',\n",
    "                                                                                                                                      'geodaten@sg.ch',\n",
    "                                                                                                                                      'info@example.com',\n",
    "                                                                                                                                      'agi@tg.ch',\n",
    "                                                                                                                                      'mail@lisag.ch',\n",
    "                                                                                                                                      'gis@bd.zh.ch',\n",
    "                                                                                                                                      'info.diffusion@vd.ch',\n",
    "                                                                                                                                      'webgis@swisstopo.ch')):\n",
    "        # llama_answer = ask_llama(task, row['title'], idx)\n",
    "        pass\n",
    "    else:\n",
    "        # generate LLM response with abstract and interpret it\n",
    "        kwds = read_keyowrds(ask_llama(task, row['abstract']))\n",
    "\n",
    "        df_kg = collect_keywords(kwds, row['lang_3'], trns_dict, df_kg)\n",
    "        # for lang in [k for k in trns_dict.keys()]:\n",
    "        #     llama_translation = ask_llama(trns_dict[lang], \", \".join(kwds), idx, check_response=False)\n",
    "        #     translations[lang] = read_translation(llama_translation)\n",
    "        # if check_length(translations, len(kwds)):\n",
    "        #     df = pd.DataFrame({row['lang_3']:kwds})\n",
    "        #     for lang in [k for k in trns_dict.keys()]:\n",
    "        #         df[lang] = translations[lang]\n",
    "        #         # data.loc[idx, 'kg_'+lang] = ','.join(translations[lang])\n",
    "        #     # data.loc[idx, 'kg_'+row['lang_3']] = ','.join(kwds)\n",
    "        #     df_kg = pd.concat([df_kg, df], axis=0, ignore_index=True)\n",
    "        # else:\n",
    "        #     print(\"Differing translation lengths!\")\n",
    "\n",
    "remove_rows = df_kg.applymap(lambda x: len(x.split(\" \"))).apply(sum, axis=1).loc[lambda x:x==4].index.tolist()\n",
    "df_kg.drop(remove_rows, inplace=True)"
   ]
  },
  {
   "cell_type": "markdown",
   "metadata": {},
   "source": [
    "#### Generate the knowledge graph"
   ]
  },
  {
   "cell_type": "code",
   "execution_count": 6,
   "metadata": {},
   "outputs": [],
   "source": [
    "df_kg.to_pickle('kg_data.pkl')"
   ]
  },
  {
   "cell_type": "code",
   "execution_count": 5,
   "metadata": {},
   "outputs": [],
   "source": [
    "# for i, row in df_kg.iterrows():\n",
    "#     if len(row['ITA']) < 5 or len(row['DEU'])<5 or len(row['ENG'])<5 or len(row['FRA'])<5:\n",
    "#         df_kg.drop(i, inplace=True)"
   ]
  },
  {
   "cell_type": "code",
   "execution_count": 10,
   "metadata": {},
   "outputs": [
    {
     "name": "stdout",
     "output_type": "stream",
     "text": [
      "KG: Filtering translations...\n",
      "KG: Loading data in the knowledge graph...\n"
     ]
    }
   ],
   "source": [
    "kg = generate_knowledge_graph('kg_data.pkl', 'knowledge_graph')"
   ]
  },
  {
   "cell_type": "code",
   "execution_count": 2,
   "metadata": {},
   "outputs": [],
   "source": [
    "kg = open_knowledge_graph(cog_home='knowledge_graph', kg_name='Geoharvester')"
   ]
  },
  {
   "cell_type": "code",
   "execution_count": 17,
   "metadata": {},
   "outputs": [
    {
     "data": {
      "text/plain": [
       "['Geographischer Bezug',\n",
       " 'Rasterformat',\n",
       " 'Lagefixpunkte',\n",
       " 'Anbaumöglichkeiten',\n",
       " 'Klimatischen Voraussetzungen',\n",
       " 'Geodaten',\n",
       " 'Unfallstandort',\n",
       " 'Schiessanlage',\n",
       " 'Betriebsstandort',\n",
       " 'Altablagerung',\n",
       " 'Altlast',\n",
       " 'Militärische Einrichtungen',\n",
       " 'Tierarten',\n",
       " 'Kantonsgebiet',\n",
       " 'Jagdreviere',\n",
       " 'Verkehrswege',\n",
       " 'Berggebiet',\n",
       " 'Bruchkanten',\n",
       " 'Höhenkurven',\n",
       " 'Höhenfixpunkte',\n",
       " 'Gis',\n",
       " 'Rebflächen',\n",
       " 'Dzv',\n",
       " 'Datensatz',\n",
       " 'Direktzahlungen',\n",
       " 'Hangbeiträge',\n",
       " 'Lebensbedingungen',\n",
       " 'Grundstücke',\n",
       " 'Orthofoto',\n",
       " 'Schulgemeindgrenze',\n",
       " 'Katholische Kirchgemeinden',\n",
       " 'Feuerschau',\n",
       " 'Erhebungszeitpunkt',\n",
       " 'Gemeindegewässer',\n",
       " 'Gewässerbaukataster',\n",
       " 'Gschv',\n",
       " '-Areale',\n",
       " 'Grundwasserschutz',\n",
       " 'Schutzbereiche',\n",
       " 'Wasserbaugesetz',\n",
       " 'Amt',\n",
       " 'Gewässerqualität',\n",
       " 'Oberflächengewässern',\n",
       " 'Messstellen',\n",
       " 'Gesamtphosphor',\n",
       " 'Doc',\n",
       " 'Messstelle',\n",
       " 'Gng',\n",
       " 'Massstab',\n",
       " 'Üp',\n",
       " 'Grundbuchplänen',\n",
       " 'St.Gallen',\n",
       " 'Gewässernetz',\n",
       " 'Rechtszustand',\n",
       " 'Beitragsgesuche',\n",
       " 'Revitalisierungsprojekte',\n",
       " 'Hochwasserschutz',\n",
       " 'Gewässerstrecken',\n",
       " 'Gemeindebehörde',\n",
       " 'Planungsarbeiten',\n",
       " 'Gep',\n",
       " 'Entwässerungsprojekt',\n",
       " 'Naturwissenschaftliche Gesellschaft',\n",
       " 'Inventarberichte',\n",
       " 'Geotope',\n",
       " 'Gesteinsarten',\n",
       " 'Beschaffenheit',\n",
       " 'Landeskarte',\n",
       " 'Ai',\n",
       " 'Ar',\n",
       " 'Sg',\n",
       " 'Gefahrenstufen',\n",
       " 'Modellierungsprodukt',\n",
       " 'Abflussbereiche',\n",
       " 'Überschwemmungen',\n",
       " 'Flüsse',\n",
       " 'Regenwasser',\n",
       " 'Oberflächenabfluss',\n",
       " 'Gebäudenummern',\n",
       " 'Parzellennummern',\n",
       " 'Identifikationsnummer',\n",
       " 'Versicherungsnummer',\n",
       " 'Sonderbau',\n",
       " 'Mehrfamilienhaus',\n",
       " 'Einfamilienhaus',\n",
       " 'Gebäudekategorien',\n",
       " 'Bauperiode',\n",
       " 'Brenngasen',\n",
       " 'Flüssiggas',\n",
       " 'Erdgas',\n",
       " 'Rohrleitungen',\n",
       " 'Gasversorgung',\n",
       " 'Dwfv',\n",
       " 'Verkehrszunahme',\n",
       " 'Wvfv',\n",
       " 'Dtfv',\n",
       " 'Fussgängerzählstellen',\n",
       " 'Messergebnisse',\n",
       " 'Ernährungsplanung',\n",
       " 'Versorgungsbasis',\n",
       " 'Produktionsflächen',\n",
       " 'Fruchtfolgeflächen',\n",
       " 'Innerrhoden',\n",
       " 'Gewässer',\n",
       " 'Feuerlöschweihern',\n",
       " 'Warmwasser',\n",
       " 'Heizung',\n",
       " 'Fernwärme',\n",
       " 'Karte',\n",
       " 'Feldblockkarte',\n",
       " 'Fliesswegkarte',\n",
       " 'Multiple-Flow-Algorithmen',\n",
       " 'C-Faktor',\n",
       " 'Bodenabtrag',\n",
       " 'Gefährdungsstufen',\n",
       " 'Fcover300M',\n",
       " 'Satellitenbilder',\n",
       " 'Flächendaten',\n",
       " 'Ackerland',\n",
       " 'Erosionsrisiko',\n",
       " 'Datenbank',\n",
       " 'Naturereignissen',\n",
       " 'Naturgefahren',\n",
       " 'Erhebungsmassstab',\n",
       " 'Zulässigkeitsbereiche',\n",
       " 'Erdwärmesonden',\n",
       " 'Entscheidungsgrundlage',\n",
       " 'Raumordnung',\n",
       " 'Energiestadt',\n",
       " 'Energien',\n",
       " 'Leistungsausweis',\n",
       " 'Heizungsart',\n",
       " 'Verteilkabinen',\n",
       " 'Trafostationen',\n",
       " 'Stromnetz',\n",
       " 'Stromversorgung',\n",
       " 'Werkleitungen',\n",
       " 'Netzebenen',\n",
       " 'Stromvg',\n",
       " 'Sr',\n",
       " 'Stromversorgungsgesetz',\n",
       " 'Stromnetzgebiete',\n",
       " 'Vollzugsbehörde',\n",
       " 'Verkehrszählung',\n",
       " 'Lärmbelastung',\n",
       " 'Streckennetz',\n",
       " 'Emissionskataster',\n",
       " 'Rhb',\n",
       " 'Sob',\n",
       " 'Bls',\n",
       " 'Sbb',\n",
       " 'Jahreszahl',\n",
       " 'Modellberechnungen',\n",
       " 'Eisenbahnverkehr',\n",
       " 'Durchgangsleitungen',\n",
       " 'Topographische Karte',\n",
       " 'Generalstabschef',\n",
       " 'Eidgenossenschaft',\n",
       " 'Quartiermeisterstabs',\n",
       " 'Bln-Inventar',\n",
       " 'Kln-Inventar',\n",
       " 'Naturdenkmäler',\n",
       " 'Bundesinventare',\n",
       " 'Natur-Heimatschutz',\n",
       " 'Bundesgesetz',\n",
       " 'Bodentypen',\n",
       " 'Hangneigung',\n",
       " 'Hanglage',\n",
       " 'Muttergestein',\n",
       " 'Physiographische Einheiten',\n",
       " 'Grossbuchstaben',\n",
       " 'Bodeneignungskarte',\n",
       " 'Bundesamt',\n",
       " 'Sperrgebiete',\n",
       " 'Deckungsgrad',\n",
       " 'Entwicklungsstufe',\n",
       " 'Bestandesalter',\n",
       " 'Baumartenzusammensetzung',\n",
       " 'Forstliche Planung',\n",
       " 'Waldbestandeskarte',\n",
       " 'Astra',\n",
       " 'Wms',\n",
       " 'Grundstück',\n",
       " 'Nationalstrasse',\n",
       " 'Datenquelle',\n",
       " 'Baufertigstellungen',\n",
       " 'Zgb',\n",
       " 'Rutschgebiete',\n",
       " 'Gwr',\n",
       " 'Gebäudebestand',\n",
       " 'Einfamilenhäuser',\n",
       " 'Swisstopo',\n",
       " 'Landeskarten',\n",
       " 'Übersichtsplan',\n",
       " 'Stand',\n",
       " 'Amphibienvorkommen',\n",
       " 'Pumpwerke',\n",
       " 'Schieber',\n",
       " 'Löschwasser',\n",
       " 'Brauchwasser',\n",
       " 'Betriebswasser',\n",
       " 'Trinkwasser',\n",
       " 'Wasserversorgung',\n",
       " 'Gefahrenkarte']"
      ]
     },
     "execution_count": 17,
     "metadata": {},
     "output_type": "execute_result"
    }
   ],
   "source": [
    "find_nodes_by_language(kg, 'german')"
   ]
  },
  {
   "cell_type": "code",
   "execution_count": 13,
   "metadata": {},
   "outputs": [
    {
     "name": "stdout",
     "output_type": "stream",
     "text": [
      "['référence géographique', 'relazione geografica', 'geographical reference']\n",
      "['grid format', 'formato a raggiera', 'format raster', 'formato a rete', 'raster format']\n",
      "['points fixes de niveau', 'punti di riferimento per la gestione delle lagune', 'lagefixpunktes']\n",
      "['possibilités de culture', 'possibilità di coltivazione.', 'farming possibilities.']\n",
      "['conditions climatiques préalables', 'condizioni climatiche presupposte', 'climatic preconditions']\n",
      "['geodonnées', 'geodati', 'geodetic data']\n",
      "[\"lieu d'accident\", \"luogo dell'incidente\", 'accident location']\n",
      "['installation à feu', 'installazione di tiro', 'shooting range']\n",
      "[\"site d'exploitation\", 'posizione operativa', 'operating location']\n",
      "['déchalandage ancien', 'deposito di rifiuti', 'landfill']\n",
      "['ancienne pollution', 'rischio ambientale', 'hazardous waste site']\n",
      "['installations militaires', 'installazioni militari', 'military installations']\n",
      "['espèces animales.', 'specie animali', 'species types']\n",
      "['région cantonale', 'distretto cantonale', 'district area']\n",
      "['référence de chasse', 'rettifico di caccia', 'hunting permits']\n",
      "['voies de circulation', 'vie di circolazione', 'traffic routes']\n",
      "['région montagneuse', 'regione montuosa.', 'mountain area.']\n",
      "['ruptures de relief', 'rupi', 'breaklines']\n",
      "[\"courbes d'altitude\", 'curve di altitudine', 'elevation curves']\n",
      "[\"pieux fixes d'altitude\", 'punti di riferimento altitudinale', 'elevation fix points']\n",
      "['géoinformation', 'sistemi informativi geografici', 'gis']\n",
      "['surfaces vignes', 'superfici a vigna', 'vineyard areas']\n",
      "['dzv', 'german winegrowers association (dzv)']\n",
      "['ensemble de données', 'set di dati', 'data set']\n",
      "['paiements directs', 'pagamenti diretti', 'direct payments']\n",
      "['apports du terrain', 'contributi per la gestione dei pendii', 'slope contributions']\n",
      "['conditions de vie', 'condizioni di vita', 'living conditions']\n",
      "['biens-fonds', 'terreni', 'land plots']\n",
      "['orthophotographie', 'ortofotografia', 'aerial photograph']\n",
      "['limite scolaire', 'limite scolastico', 'school catchment area']\n",
      "['églises catholiques locales', 'chiese cattoliche parrocchie', 'catholic church communities']\n",
      "[\"feu d'alarme\", 'vigilia dei fuochi', 'firewatch']\n",
      "[\"moment d'enquête.\", \"momento dell'accertamento\", 'time of measurement.']\n",
      "['eaux communales', 'fiumi comunali', 'municipal waters']\n",
      "['catalogue hydrographique', \"catasto dei corsi d'acqua\", 'watercourse catalogue']\n",
      "['règlement génie schutz wasser (ou gschv)', \"regolamento sulla tutela dei corsi d'acqua (gschv)\", 'eu habitats directive']\n",
      "['zonages', 'aree protette', 'areas']\n",
      "['protection du sous-sol', 'protezione delle acque sotterranee', 'groundwater protection']\n",
      "['zones protégées', 'zone di protezione', 'protection areas']\n",
      "[\"loi sur l'hydroélectricité.\", \"loi sur l'eau\", 'legge sulle acque', 'water law']\n",
      "['service public', 'ufficio', 'office']\n",
      "['qualité des eaux', \"qualità dell'acqua\", 'water quality']\n",
      "[\"cours d'eau superficiaux\", \"corsi d'acqua superficiali\", 'surface waters']\n",
      "[\"points d'étape\", 'punti di misura', 'interface points']\n",
      "['phosphore total', 'fosforo totale', 'total phosphorus']\n",
      "[\"fiche (ou document d'opérationnement et de contrôle)\", 'documento', 'document']\n",
      "['emplacement', \"emplacement d'inspection\", 'punti di controllo', \"point d'essai\", 'punto di misura', 'measurement point', \"poste d'arrêt\", 'punto di controllo', 'checkpoint']\n",
      "['groupement national des géographes (gng)', 'gng', 'general national geographic (gng)']\n",
      "['scala di magnificazione', 'scala di riproduzione', 'échelle', 'scala di misura.', 'scale']\n",
      "['unité de planification', 'up', 'upper plan']\n",
      "['plans du registre foncier', 'piani del registro fondiario', 'land register plans']\n",
      "['sgiorgio', 'saint gallen', 'saint-gall', 'san gallo', 'stgallen']\n",
      "['réseau hydrographique', 'rete idrografica', 'water network']\n",
      "['situation juridique.', 'stato giuridico.', 'legal status.']\n",
      "['demandes de contributions', 'richieste di contributo', 'contribution requests']\n",
      "['projets de revitalisation', 'progetti di risanamento', 'revitalization projects']\n",
      "['protection contre les inondations', 'protezione dalle piene', 'flood protection']\n",
      "[\"cours d'eau\", \"corsi d'acqua\", 'watercourse stretches']\n",
      "['autorité communale', 'autorità comunale.', 'municipal authority.']\n",
      "['travaux de planification', 'lavori di pianificazione', 'planning work']\n",
      "[\"système d'exploitation du potentiel (gep)\", 'gestione delle acque pluviali (gep)', 'groundwater extraction plant']\n",
      "[\"projet d'évacuation des eaux\", 'progetto di drenaggio', 'drainage project']\n",
      "['société scientifique naturelle', 'società scientifica naturale', 'scientific society for natural sciences']\n",
      "[\"rapports d'inventaire\", 'relazioni di inventario', 'inventory reports']\n",
      "['géosite', 'geozone', 'geological sites']\n",
      "['types de roches', 'tipi di rocce', 'rock types.']\n",
      "['état naturel', 'condizione', 'condition']\n",
      "['carte géographique.', 'carta regionale', 'regional map.']\n",
      "['ia', 'ai', 'artificial intelligence']\n",
      "['area research', 'ar', 'austrian republic']\n",
      "['surface geology', 'sg', 'sd', 'swiss government']\n",
      "['niveaux de danger', 'livelli di pericolosità', 'danger levels']\n",
      "['modeling product', 'prodotto di modellizzazione', 'produit de modélisation hydrologique']\n",
      "['zone di deflusso', 'drainage areas.', 'zones de débordement', 'zone di deflusso.', 'zones de débordement.']\n",
      "['overflows', 'alluvioni', 'inondations excessives']\n",
      "['rivers', 'fiumi', \"cours d'eau\"]\n",
      "['acqua piovana', 'rainwater', 'acqua di pioggia', 'eau de pluie']\n",
      "['débit superficiel', 'surface runoff', \"débit d'écoulement superficiel\", 'deflusso superficiale']\n",
      "['building numbers.', 'numeri degli edifici', 'nombres de bâtiments.']\n",
      "['parcel numbers', 'numeri delle parcelle', 'nombres de parcelles']\n",
      "['identification number', 'numero di identificazione', \"numéro d'identification\"]\n",
      "['insurance number', 'numero assicurativo', \"numéro d'assurance\"]\n",
      "['special structure', 'edificio speciale', 'bâtiment spécial']\n",
      "['multi-family house', 'casa multifamiliare', 'immeuble collectif']\n",
      "['single-family house', 'casa singola', 'maison individuelle']\n",
      "['building categories', 'categorie di edifici', \"catégories d'immeubles\"]\n",
      "['building period', 'periodo di costruzione', 'période de construction']\n",
      "['combustible gases.', 'gazoline', 'combustibles gazeux.']\n",
      "['liquefied gas', 'gas liquido', 'gazole liquide']\n",
      "['natural gas', 'gas del suolo', 'gaz naturel']\n",
      "['pipe lines', 'tubazioni', 'conduits']\n",
      "['gas supply', 'fornitura di gas', 'fourniture de gaz']\n",
      "['daily weighted flow volume (dwfv)', 'tasso di velocità dei veicoli (dwfv)', 'dwfv']\n",
      "['traffic increase.', 'croissance du trafic', 'incremento del traffico', 'croissance-du-trafic']\n",
      "['weekly vehicle flow volume', 'sistema di valutazione del flusso veicolare (wvfv)', 'wvfv']\n",
      "['daily traffic flow volume', 'tasso di frequenza dei veicoli (dtfv)', 'traffic flow volume (dtfv)', 'sistema di monitoraggio del traffico (dtfv)', 'dtfv']\n",
      "['punti di contaggio pedonale', 'pedestrian counting stations', 'comptoirs pour piétons', 'conteggio pedoni', 'comptages-pieds-de-foule']\n",
      "['risultati dei rilevamenti', 'measurement results', 'résultats du meeting', 'risultati di messa a punto', 'résultats-des-événements']\n",
      "['nutrition planning.', 'pianificazione alimentare.', 'planification alimentaire.']\n",
      "['logistics base', 'base di approvvigionamento', \"base d'alimentation\"]\n",
      "['production areas', 'aree di produzione', 'surfaces de production']\n",
      "['orchard areas', 'aree di coltivazione frutticole', \"surfaces d'agriculture\"]\n",
      "['rhodanie intérieure', 'interno-retto', 'inner-rhodes', 'reno interno', 'rhodanie intérieure.']\n",
      "['eaux courantes', \"corpi d'acqua\", 'rivers', 'waters', \"cours d'eau\", \"corsi d'acqua\", 'watercourse']\n",
      "['firefighting teams', 'estintori antincendio', \"équipes d'extinction des incendies\"]\n",
      "['hot water.', 'acqua calda.', 'eau chaude.']\n",
      "['heating', 'riscaldamento', 'système de chauffage']\n",
      "['district heating', 'riscaldamento a distanza', 'chauffage à distance']\n",
      "['map', 'carta', 'carte géographique']\n",
      "['field block map', 'mappa di blocchi agricoli', 'carte des blocs de champs']\n",
      "['flow path map', \"carta dei corsi d'acqua\", \"carte des cours d'eau\"]\n",
      "['multiple-flow-algorithms', 'algoritmi multiple-flow', 'algorithmes de flux multiple']\n",
      "['c-factor', 'coefficiente c', 'coefficient c']\n",
      "['erosione del suolo', 'soil erosion', 'erosion du sol', 'sottrazione del suolo', 'érosion du sol']\n",
      "['hazard stages', 'stadi di pericolosità', 'étapes de dangerosité']\n",
      "['flood cover 300m', 'copertura forestale 300m', 'couverture forestière 300m']\n",
      "['satellite images', 'immagini satellitari', 'images satellites']\n",
      "['dati di superficie', 'area data', 'données sur les surfaces', 'dati territoriali', \"données sur l'étendue du terrain\"]\n",
      "['agricultural land', 'terreni agrari', 'arable land', 'terreni agricoli', 'terre agricole']\n",
      "['erosion risk', 'rischio di erosione', \"risque d'érosion\"]\n",
      "['database', 'banca di dati', 'base-de-données-environnementales']\n",
      "['natural phenomena', 'naturi eventi', 'nouvelles-naturelles']\n",
      "['natural hazards', 'risques naturels', 'pericoli naturali', 'risques-naturals']\n",
      "['elevation scale', 'scala di elevazione', 'échelle-d-altitude']\n",
      "['permissible areas', 'aree di ammissibilità', 'zones-d-admissibilité']\n",
      "['earth heat probes', 'sonde di calore terrestre', 'sondes-thermiques-globales']\n",
      "['decision-making basis', 'fondamento decisionale', 'base-de-décision']\n",
      "['spatial planning', 'pianificazione urbanistica', 'aménagement du territoire']\n",
      "['energy city', \"città dell'energia\", 'ville énergétique']\n",
      "['energies', 'energia', 'ressources énergétiques']\n",
      "['performance certificate', 'dichiarazione di prestazioni', \"justificatif d'activité\"]\n",
      "['heating type', 'tipo di riscaldamento', 'type de chauffage']\n",
      "['distribution cabins.', 'cabine di distribuzione.', 'cabines de distribution.']\n",
      "['substations', 'stazioni di trasformazione', 'postes de transformation']\n",
      "['grid', 'reti elettriche', 'réseau électrique']\n",
      "['power supply', 'rete elettrica', 'alimentation électrique']\n",
      "['utility lines', 'wiring systems', \"câbles d'alimentation\", 'installazioni di rete', 'wiring', \"conduites d'alimentation\", 'impianti di alimentazione', 'power lines', 'raccordements électriques', 'sistemi di alimentazione', \"conduites d'installation\"]\n",
      "['network levels', 'netzebenen', 'niveaux de réseau.']\n",
      "['electricity grid', \"regolamento sull'erogazione energetica\", 'alimentation électrique (stromvg)']\n",
      "['réseau (sr)', 'sr', 'grid']\n",
      "['electricity supply law', 'legge sulla fornitura di energia elettrica', \"loi sur l'alimentation électrique\"]\n",
      "['electricity network areas', 'stromnetzgebiete', \"zones d'électricité\"]\n",
      "['enforcement authority.', 'autorità amministrativa.', \"autorité chargée de l'exécution.\"]\n",
      "['traffic counting', 'conteggio del traffico', 'comptage du trafic']\n",
      "['noise pollution', 'inquinamento sonoro', 'bruit atmosphérique']\n",
      "['network of tracks', 'network route', 'rete stradale', 'réseau ferré']\n",
      "['emissions catalog', 'registro delle emissioni', 'emission register', \"registre d'émissions\", 'elenco delle emissioni', \"inventaire d'émissions\"]\n",
      "['rhätische bahn (rhb)', 'rhb', 'rhétien railways']\n",
      "['südostbahn (sob)', 'sob']\n",
      "['bern-lötschberg-simplon railway (bls)', 'bls']\n",
      "['swiss federal railways (sbb)', 'sbb', 'cff']\n",
      "['year number', 'anno', 'année civile']\n",
      "['model calculations', 'calculs de modèle', 'calcoli di modello', 'calculs modélisés']\n",
      "['railway traffic', 'trafic ferroviaire', 'traffico ferroviario', 'circulation ferroviaire']\n",
      "['power cables', 'conduttori di passaggio', \"câbles d'accès\"]\n",
      "['topographic map.', 'carta topografica', 'carte topographique']\n",
      "['chief of staff', 'capo dello stato maggiore generale', \"chef d'état-major général\"]\n",
      "['confederation', 'confederazione elvetica', 'confédération suisse']\n",
      "['quarter master staff', 'stato maggiore di quartiermaestro', \"quartier-maître d'état-major\"]\n",
      "['bnl inventory.', 'inventario bln', 'inventaire bln']\n",
      "['klni inventory', 'inventario kln', 'inventaire kln']\n",
      "['natural monuments', 'monumenti naturali', 'monuments naturels']\n",
      "['federal inventories', 'inventario federale', 'inventaires fédéraux']\n",
      "['nature conservation', \"protezione del paesaggio e dell'ambiente naturale\", 'protection-nature-patrimoine']\n",
      "['federal law', 'legge federale', 'loi fédérale']\n",
      "['soil types', 'tipi di suolo', 'types de sol.']\n",
      "['slope angle', 'inclinazione del pendio', 'inclinaison de terrain']\n",
      "['slope position', 'pendenza del pendio', 'pente de terrain']\n",
      "['mother rock', 'gneiss madre', 'roches mères']\n",
      "['physical units', 'unità fisiche', 'unités physiographiques']\n",
      "['capital letters', 'lettere maiuscole', 'lettres majuscules']\n",
      "['soil suitability map', 'carta di idoneità del terreno', 'carte du niveau du sol']\n",
      "['office fédéral.', 'office fédéral', 'agenzia federale', 'federal office', 'bundesamt', 'bureau fédéral']\n",
      "['restricted areas', 'zone proibite', 'zones interdites.']\n",
      "['cover grade', 'grado di copertura', 'taux de couverture']\n",
      "['development stage', 'stadio di sviluppo', 'stade de développement']\n",
      "['stand age', 'età della piantagione', 'âge du peuplement']\n",
      "['tree species composition', 'composizione specie arboree', \"composition d'espèces arborees\"]\n",
      "['forestry planning', 'pianificazione forestale', 'planification forestière']\n",
      "['forest stand map', 'carta del bosco', 'carte des étendues forestières']\n",
      "['astra', 'archivio spaziale e tecnologico per la ricerca astronomica (astra)', 'astre']\n",
      "[\"système d'information géographique (wms)\", 'servizi web di mappatura (wms)', \"système d'information géographique\", 'web mapping service', \"système d'information géographique (sig)\", 'sistema di informazione geografica (wms)', 'wms']\n",
      "['plot', 'terreno', 'plot of land.', 'proprietà terriera', 'terrain']\n",
      "['national street', 'nationalstraße']\n",
      "['data source', 'fonte dati', 'source de données']\n",
      "['building-ready status', \"stabilimenti edilizi pronti all'utilizzo\", \"étapes d'achèvement de construction\"]\n",
      "['zone of geological buildings (zgb)', 'codici giuridici svizzeri (zgb)', 'code pénal suisse (zgb)']\n",
      "['slippery slopes', 'aree franche', 'zones de glissements']\n",
      "['gauge width railway (gwr)', 'struttura abitabile.', 'groundwater regulation', 'gauge width ratio (gwr)', 'voie ferrée (gwr)', 'gruppo di locomotive a vapore (gwr)', 'great western railway', 'gwr', 'gruppo di valore relativo (gwr)', 'groundwater report', 'chemin de fer grand western (gwr)', 'gruppo di valutazione dei rischi (gwr)', 'gare et wagon routier (gwr)']\n",
      "['building stock', 'patrimonio edilizio', 'patrimoine immobilier']\n",
      "['single-family homes', 'case a schiera', 'maisons individuelles']\n",
      "['swiss topographic service', 'swiss topographic', 'swissmap', 'swiss topographic map', 'swisstopo', 'swiss topo.']\n",
      "['cartes du pays', 'country maps', 'carte territoriali', 'cartes nationales', 'national maps', 'cartes géographiques du pays.', 'cartine regionali.', 'regional maps.', 'cartes régionales', 'cartine territoriali', 'cartes géographiques régionales.']\n",
      "['piano di visione', 'piano di vista generale', 'piano di insieme', 'piano di vista', 'overview plan', 'piano di visione generale', \"plan d'ensemble\"]\n",
      "['punto vendita', 'stand']\n",
      "['amphibian occurrences', 'presenze di anfibi', \"présence d'amphibiens\"]\n",
      "['pumps', 'impianti pompa', 'ouvrages hydrauliques.']\n",
      "['valves', 'valvole', 'étages à pression']\n",
      "['firefighting water', 'acqua antincendio', 'eau de lutte contre les incendies']\n",
      "['service water', \"acqua d'uso domestico\", \"eau d'usage courant\"]\n",
      "['operating water', 'acqua per il funzionamento', 'eau de fonctionnement']\n",
      "['drinking water', 'acqua potabile', 'eau potable']\n",
      "['water supply', 'fornitura idrica', 'approvisionnement en eau potable']\n",
      "[\"carte d'aléa\", 'carta di pericolo', 'danger map', 'géocarte dangereuse', 'carta dei pericoli', \"carte d'alerte\"]\n"
     ]
    }
   ],
   "source": [
    "for ref in find_nodes_by_language(kg, 'german'):\n",
    "    print([k['id'] for k in kg.v(vertex=ref).inc(\"means\").all()['result']])"
   ]
  },
  {
   "cell_type": "code",
   "execution_count": 45,
   "metadata": {},
   "outputs": [
    {
     "data": {
      "text/plain": [
       "[\"carte d'alerte\",\n",
       " \"carte d'aléa\",\n",
       " 'carta di pericolo',\n",
       " 'géocarte dangereuse',\n",
       " 'carta dei pericoli',\n",
       " 'danger map',\n",
       " 'Gefahrenkarte']"
      ]
     },
     "execution_count": 45,
     "metadata": {},
     "output_type": "execute_result"
    }
   ],
   "source": [
    "find_translation(kg, 'Gefahrenkarte', 'german')"
   ]
  },
  {
   "cell_type": "code",
   "execution_count": 9,
   "metadata": {},
   "outputs": [
    {
     "data": {
      "text/html": [
       "  <iframe srcdoc='\n",
       "<!DOCTYPE html>\n",
       "<html lang=\"en\">\n",
       "  <head>\n",
       "    <title>Cog Graph</title>\n",
       "    <style type=\"text/css\">\n",
       "       body {\n",
       "        padding: 0;\n",
       "        margin: 0;\n",
       "        width: 100%;!important; \n",
       "        height: 100%;!important; \n",
       "      }\n",
       "\n",
       "      #cog-graph-view {\n",
       "        width: 700px;\n",
       "        height: 700px;\n",
       "      }\n",
       "    </style>\n",
       "\n",
       "\n",
       "    <script\n",
       "      type=\"text/javascript\"\n",
       "      src=\"https://cdnjs.cloudflare.com/ajax/libs/vis-network/9.1.2/dist/vis-network.min.js\"\n",
       "    ></script>\n",
       "  </head>  \n",
       " \n",
       "  <body>\n",
       "    <div id=\"cog-graph-view\"></div>\n",
       "\n",
       "    <script type=\"text/javascript\">\n",
       "\n",
       "    results =[{\"id\": \"german\", \"from\": \"Gefahrenkarte\", \"to\": \"german\"}] \n",
       "\n",
       "    var nodes = new vis.DataSet();\n",
       "    var edges = new vis.DataSet();\n",
       "    for (let i = 0; i < results.length; i++) {\n",
       "        res = results[i];\n",
       "        nodes.update({\n",
       "            id: res.from,\n",
       "            label: res.from\n",
       "        });\n",
       "        nodes.update({\n",
       "            id: res.to,\n",
       "            label: res.to\n",
       "        });\n",
       "        edges.update({\n",
       "            from: res.from,\n",
       "            to: res.to\n",
       "        });\n",
       "\n",
       "    }\n",
       "\n",
       "    var container = document.getElementById(\"cog-graph-view\");\n",
       "    var data = {\n",
       "        nodes: nodes,\n",
       "        edges: edges,\n",
       "    };\n",
       "    var options = {\n",
       "        nodes: {\n",
       "            font: {\n",
       "                size: 20,\n",
       "                color: \"black\"\n",
       "            },\n",
       "            color: \"#46944f\",\n",
       "            shape: \"dot\",\n",
       "            widthConstraint: 200,\n",
       "\n",
       "        },\n",
       "        edges: {\n",
       "            font: \"12px arial #ff0000\",\n",
       "            scaling: {\n",
       "                label: true,\n",
       "            },\n",
       "            shadow: true,\n",
       "            smooth: true,\n",
       "            arrows: { to: {enabled: true}}\n",
       "        },\n",
       "        physics: {\n",
       "            barnesHut: {\n",
       "                gravitationalConstant: -30000\n",
       "            },\n",
       "            stabilization: {\n",
       "                iterations: 1000\n",
       "            },\n",
       "        }\n",
       "\n",
       "    };\n",
       "    var network = new vis.Network(container, data, options);\n",
       "    </script>\n",
       "  </body>\n",
       "</html>\n",
       "\n",
       "' width=\"700\" height=\"700\"> </iframe> "
      ],
      "text/plain": [
       "<IPython.core.display.HTML object>"
      ]
     },
     "metadata": {},
     "output_type": "display_data"
    }
   ],
   "source": [
    "kg.v(\"Gefahrenkarte\").tag(\"from\").out(\"synonym\").tag(\"to\").view(\"synonym\").render()"
   ]
  },
  {
   "cell_type": "code",
   "execution_count": null,
   "metadata": {},
   "outputs": [],
   "source": []
  }
 ],
 "metadata": {
  "kernelspec": {
   "display_name": "geoharvester",
   "language": "python",
   "name": "python3"
  },
  "language_info": {
   "codemirror_mode": {
    "name": "ipython",
    "version": 3
   },
   "file_extension": ".py",
   "mimetype": "text/x-python",
   "name": "python",
   "nbconvert_exporter": "python",
   "pygments_lexer": "ipython3",
   "version": "3.9.16"
  }
 },
 "nbformat": 4,
 "nbformat_minor": 2
}
