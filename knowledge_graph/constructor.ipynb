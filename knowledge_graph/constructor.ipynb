{
 "cells": [
  {
   "cell_type": "markdown",
   "metadata": {},
   "source": [
    "#### Load modules"
   ]
  },
  {
   "cell_type": "code",
   "execution_count": 1,
   "metadata": {},
   "outputs": [
    {
     "name": "stderr",
     "output_type": "stream",
     "text": [
      "c:\\Users\\ma1021525\\Anaconda3\\envs\\geoharvester\\lib\\site-packages\\torch\\__init__.py:749: UserWarning: torch.set_default_tensor_type() is deprecated as of PyTorch 2.1, please use torch.set_default_dtype() and torch.set_default_device() as alternatives. (Triggered internally at C:\\actions-runner\\_work\\pytorch\\pytorch\\builder\\windows\\pytorch\\torch\\csrc\\tensor\\python_tensor.cpp:433.)\n",
      "  _C._set_default_tensor_type(t)\n"
     ]
    }
   ],
   "source": [
    "import pandas as pd\n",
    "import sys, os\n",
    "from gpt4all import GPT4All\n",
    "from tqdm import tqdm\n",
    "import re\n",
    "from deep_translator import GoogleTranslator\n",
    "\n",
    "sys.path.append(\"\\\\\".join(os.getcwd().split(\"\\\\\")[:-1]))\n",
    "%load_ext autoreload\n",
    "%autoreload 2\n",
    "from utils import *\n",
    "from scraper import utils"
   ]
  },
  {
   "cell_type": "markdown",
   "metadata": {},
   "source": [
    "#### Import data and language model"
   ]
  },
  {
   "cell_type": "code",
   "execution_count": 3,
   "metadata": {},
   "outputs": [],
   "source": [
    "data = pd.read_pickle(os.path.join(\"/\".join(os.getcwd().split(\"\\\\\")[:-1]),\n",
    "                                   'preprocessing','data/merged_data.pkl'))\n",
    "# define the language model (Llama with 8 billion parameters is about 4.66 GB)\n",
    "model = GPT4All('Meta-Llama-3-8B-Instruct.Q4_0.gguf')"
   ]
  },
  {
   "cell_type": "markdown",
   "metadata": {},
   "source": [
    "#### Clean the database"
   ]
  },
  {
   "cell_type": "code",
   "execution_count": 4,
   "metadata": {},
   "outputs": [
    {
     "name": "stderr",
     "output_type": "stream",
     "text": [
      "c:\\Users\\ma1021525\\Anaconda3\\envs\\geoharvester\\lib\\site-packages\\pandas\\core\\dtypes\\cast.py:1641: DeprecationWarning: np.find_common_type is deprecated.  Please use `np.result_type` or `np.promote_types`.\n",
      "See https://numpy.org/devdocs/release/1.25.0-notes.html and the docs for more information.  (Deprecated NumPy 1.25)\n",
      "  return np.find_common_type(types, [])\n",
      "c:\\Users\\ma1021525\\Anaconda3\\envs\\geoharvester\\lib\\site-packages\\pandas\\core\\dtypes\\cast.py:1641: DeprecationWarning: np.find_common_type is deprecated.  Please use `np.result_type` or `np.promote_types`.\n",
      "See https://numpy.org/devdocs/release/1.25.0-notes.html and the docs for more information.  (Deprecated NumPy 1.25)\n",
      "  return np.find_common_type(types, [])\n",
      "c:\\Users\\ma1021525\\Anaconda3\\envs\\geoharvester\\lib\\site-packages\\pandas\\core\\dtypes\\cast.py:1641: DeprecationWarning: np.find_common_type is deprecated.  Please use `np.result_type` or `np.promote_types`.\n",
      "See https://numpy.org/devdocs/release/1.25.0-notes.html and the docs for more information.  (Deprecated NumPy 1.25)\n",
      "  return np.find_common_type(types, [])\n",
      "c:\\Users\\ma1021525\\Anaconda3\\envs\\geoharvester\\lib\\site-packages\\pandas\\core\\dtypes\\cast.py:1641: DeprecationWarning: np.find_common_type is deprecated.  Please use `np.result_type` or `np.promote_types`.\n",
      "See https://numpy.org/devdocs/release/1.25.0-notes.html and the docs for more information.  (Deprecated NumPy 1.25)\n",
      "  return np.find_common_type(types, [])\n"
     ]
    }
   ],
   "source": [
    "language_dict = {'english':('EN', 'ENG'), 'french':('FR','FRA'), 'german':('DE','DEU'), 'italian':('IT','ITA'), 'not_found':('NA','NAN')}\n",
    "data['lang_3'] = data.apply(lambda row: language_dict[detect_language(row['abstract'], not_found=True)][1], axis=1)\n",
    "data['lang_2'] = data.apply(lambda row: language_dict[detect_language(row['abstract'], not_found=True)][0], axis=1)\n",
    "# for idx, row in data.iterrows():\n",
    "#     if row['abstract'] != 'nan':\n",
    "#         if language_dict[detect_language(row['abstract_it'])][1] != 'ITA':\n",
    "#             trnd = GoogleTranslator(source='auto', target='ita').translate(row['abstract'])\n",
    "#             data.loc[idx, 'abstract_it'] = trnd\n",
    "#         if language_dict[detect_language(row['abstract_de'])][1] != 'DEU':\n",
    "#             trnd = GoogleTranslator(source='auto', target='de').translate(row['abstract'])\n",
    "#             data.loc[idx, 'abstract_de'] = trnd\n",
    "#         if language_dict[detect_language(row['abstract_fr'])][1] != 'FRA':\n",
    "#             trnd = GoogleTranslator(source='auto', target='fr').translate(row['abstract'])\n",
    "#             data.loc[idx, 'abstract_fr'] = trnd\n",
    "#         if language_dict[detect_language(row['abstract_en'])][1] != 'ENG':\n",
    "#             trnd = GoogleTranslator(source='auto', target='en').translate(row['abstract'])\n",
    "#             data.loc[idx, 'abstract_en'] = trnd"
   ]
  },
  {
   "cell_type": "markdown",
   "metadata": {},
   "source": [
    "#### Extract keywords with a local Llama model"
   ]
  },
  {
   "cell_type": "code",
   "execution_count": 13,
   "metadata": {},
   "outputs": [
    {
     "name": "stderr",
     "output_type": "stream",
     "text": [
      "c:\\Users\\ma1021525\\Anaconda3\\envs\\geoharvester\\lib\\site-packages\\pandas\\core\\dtypes\\cast.py:1641: DeprecationWarning: np.find_common_type is deprecated.  Please use `np.result_type` or `np.promote_types`.\n",
      "See https://numpy.org/devdocs/release/1.25.0-notes.html and the docs for more information.  (Deprecated NumPy 1.25)\n",
      "  return np.find_common_type(types, [])\n",
      "c:\\Users\\ma1021525\\Anaconda3\\envs\\geoharvester\\lib\\site-packages\\pandas\\core\\dtypes\\cast.py:1641: DeprecationWarning: np.find_common_type is deprecated.  Please use `np.result_type` or `np.promote_types`.\n",
      "See https://numpy.org/devdocs/release/1.25.0-notes.html and the docs for more information.  (Deprecated NumPy 1.25)\n",
      "  return np.find_common_type(types, [])\n",
      "c:\\Users\\ma1021525\\Anaconda3\\envs\\geoharvester\\lib\\site-packages\\pandas\\core\\dtypes\\cast.py:1641: DeprecationWarning: np.find_common_type is deprecated.  Please use `np.result_type` or `np.promote_types`.\n",
      "See https://numpy.org/devdocs/release/1.25.0-notes.html and the docs for more information.  (Deprecated NumPy 1.25)\n",
      "  return np.find_common_type(types, [])\n",
      "c:\\Users\\ma1021525\\Anaconda3\\envs\\geoharvester\\lib\\site-packages\\pandas\\core\\dtypes\\cast.py:1641: DeprecationWarning: np.find_common_type is deprecated.  Please use `np.result_type` or `np.promote_types`.\n",
      "See https://numpy.org/devdocs/release/1.25.0-notes.html and the docs for more information.  (Deprecated NumPy 1.25)\n",
      "  return np.find_common_type(types, [])\n"
     ]
    },
    {
     "data": {
      "text/plain": [
       "5939"
      ]
     },
     "execution_count": 13,
     "metadata": {},
     "output_type": "execute_result"
    }
   ],
   "source": [
    "data['abstract_w_count'] = data.apply(lambda x: len(x['abstract'].split(' ')), axis=1)\n",
    "data.apply(lambda x: 'nan' if x['abstract'].startswith(('??','Es werden die Daten im Zeitraum','Link zu Metadaten:',\n",
    "                                                'https:',\n",
    "                                                'geo@bs.ch',\n",
    "                                                'info.geoportal@be.ch',\n",
    "                                                'sit@jura.ch',\n",
    "                                                'geodaten@sg.ch',\n",
    "                                                'info@example.com',\n",
    "                                                'agi@tg.ch',\n",
    "                                                'mail@lisag.ch',\n",
    "                                                'gis@bd.zh.ch',\n",
    "                                                'info.diffusion@vd.ch',\n",
    "                                                'webgis@swisstopo.ch'))\n",
    "                                                else x['abstract'], axis=1)\n",
    "len(data[(data['abstract'] != 'nan') &\n",
    "     (data['abstract'] != data['title']) &\n",
    "     (data['abstract_w_count']>4)])"
   ]
  },
  {
   "cell_type": "code",
   "execution_count": 15,
   "metadata": {},
   "outputs": [
    {
     "name": "stderr",
     "output_type": "stream",
     "text": [
      "0it [00:00, ?it/s]c:\\Users\\ma1021525\\Anaconda3\\envs\\geoharvester\\lib\\site-packages\\pandas\\core\\dtypes\\cast.py:1641: DeprecationWarning: np.find_common_type is deprecated.  Please use `np.result_type` or `np.promote_types`.\n",
      "See https://numpy.org/devdocs/release/1.25.0-notes.html and the docs for more information.  (Deprecated NumPy 1.25)\n",
      "  return np.find_common_type(types, [])\n",
      "2it [03:39, 111.17s/it]"
     ]
    },
    {
     "name": "stdout",
     "output_type": "stream",
     "text": [
      "Skipping differing translation lengths!\n"
     ]
    },
    {
     "name": "stderr",
     "output_type": "stream",
     "text": [
      "61it [1:12:09, 45.98s/it]"
     ]
    },
    {
     "name": "stdout",
     "output_type": "stream",
     "text": [
      "Skipping differing translation lengths!\n"
     ]
    },
    {
     "name": "stderr",
     "output_type": "stream",
     "text": [
      "75it [1:25:45, 56.59s/it]"
     ]
    },
    {
     "name": "stdout",
     "output_type": "stream",
     "text": [
      "Skipping differing translation lengths!\n"
     ]
    },
    {
     "name": "stderr",
     "output_type": "stream",
     "text": [
      "76it [1:27:11, 65.39s/it]"
     ]
    },
    {
     "name": "stdout",
     "output_type": "stream",
     "text": [
      "Skipping differing translation lengths!\n"
     ]
    },
    {
     "name": "stderr",
     "output_type": "stream",
     "text": [
      "78it [1:30:14, 77.17s/it]"
     ]
    },
    {
     "name": "stdout",
     "output_type": "stream",
     "text": [
      "Skipping differing translation lengths!\n"
     ]
    },
    {
     "name": "stderr",
     "output_type": "stream",
     "text": [
      "81it [1:33:18, 68.36s/it]"
     ]
    },
    {
     "name": "stdout",
     "output_type": "stream",
     "text": [
      "Skipping differing translation lengths!\n"
     ]
    },
    {
     "name": "stderr",
     "output_type": "stream",
     "text": [
      "83it [1:37:02, 92.51s/it]"
     ]
    },
    {
     "name": "stdout",
     "output_type": "stream",
     "text": [
      "Skipping differing translation lengths!\n"
     ]
    },
    {
     "name": "stderr",
     "output_type": "stream",
     "text": [
      "84it [1:39:17, 105.34s/it]"
     ]
    },
    {
     "name": "stdout",
     "output_type": "stream",
     "text": [
      "Skipping differing translation lengths!\n"
     ]
    },
    {
     "name": "stderr",
     "output_type": "stream",
     "text": [
      "87it [1:42:45, 84.20s/it] "
     ]
    },
    {
     "name": "stdout",
     "output_type": "stream",
     "text": [
      "Skipping differing translation lengths!\n"
     ]
    },
    {
     "name": "stderr",
     "output_type": "stream",
     "text": [
      "88it [1:44:24, 88.48s/it]"
     ]
    },
    {
     "name": "stdout",
     "output_type": "stream",
     "text": [
      "Skipping differing translation lengths!\n"
     ]
    },
    {
     "name": "stderr",
     "output_type": "stream",
     "text": [
      "39395it [1:57:41,  5.58it/s] \n"
     ]
    }
   ],
   "source": [
    "# iterate through the dataframe\n",
    "task = \"Extract a list of key words comma separated without adjectives in original language from the following text: \"\n",
    "en_trns_task = \"Translate the following list of words into a comma separated list in English: \"\n",
    "de_trns_task = \"Übersetze die folgende Liste von Wörtern in eine durch Komma getrennte Liste auf Deutsch: \"\n",
    "fr_trns_task = \"Traduisez la liste de mots suivante en une liste séparée par des virgules en francais: \"\n",
    "it_trns_task = \"Traduci il seguente elenco di parole in un elenco separato da virgole in italiano: \"\n",
    "\n",
    "df_kg = pd.DataFrame()\n",
    "\n",
    "for idx, row in tqdm(data.iterrows()):\n",
    "    if idx > 100:\n",
    "        continue\n",
    "    trns_dict = {\"ENG\":en_trns_task, \"DEU\":de_trns_task, \"ITA\":it_trns_task,'FRA':fr_trns_task}\n",
    "    if row['lang_3'] != 'NAN':\n",
    "        del trns_dict[row['lang_3']]\n",
    "    # filter rows with no abstract and use title instead\n",
    "    if row['abstract'] == 'nan' or row['abstract']==row['title'] or len(row['abstract'].split(' '))<5 or row['abstract'].startswith(('??',\n",
    "                                                                                                                                      'Es werden die Daten im Zeitraum',\n",
    "                                                                                                                                      'Link zu Metadaten:',\n",
    "                                                                                                                                      'https:',\n",
    "                                                                                                                                      'geo@bs.ch',\n",
    "                                                                                                                                      'info.geoportal@be.ch',\n",
    "                                                                                                                                      'sit@jura.ch',\n",
    "                                                                                                                                      'geodaten@sg.ch',\n",
    "                                                                                                                                      'info@example.com',\n",
    "                                                                                                                                      'agi@tg.ch',\n",
    "                                                                                                                                      'mail@lisag.ch',\n",
    "                                                                                                                                      'gis@bd.zh.ch',\n",
    "                                                                                                                                      'info.diffusion@vd.ch',\n",
    "                                                                                                                                      'webgis@swisstopo.ch')):\n",
    "        # llama_answer = ask_llama(task, row['title'], idx)\n",
    "        pass\n",
    "    else:\n",
    "        # generate LLM response with abstract and interpret it\n",
    "        kwds = read_keyowrds(ask_llama(task, row['abstract']))\n",
    "\n",
    "        df_kg = collect_keywords(kwds, row['lang_3'], trns_dict, df_kg)\n",
    "        # for lang in [k for k in trns_dict.keys()]:\n",
    "        #     llama_translation = ask_llama(trns_dict[lang], \", \".join(kwds), idx, check_response=False)\n",
    "        #     translations[lang] = read_translation(llama_translation)\n",
    "        # if check_length(translations, len(kwds)):\n",
    "        #     df = pd.DataFrame({row['lang_3']:kwds})\n",
    "        #     for lang in [k for k in trns_dict.keys()]:\n",
    "        #         df[lang] = translations[lang]\n",
    "        #         # data.loc[idx, 'kg_'+lang] = ','.join(translations[lang])\n",
    "        #     # data.loc[idx, 'kg_'+row['lang_3']] = ','.join(kwds)\n",
    "        #     df_kg = pd.concat([df_kg, df], axis=0, ignore_index=True)\n",
    "        # else:\n",
    "        #     print(\"Differing translation lengths!\")\n",
    "\n",
    "remove_rows = df_kg.applymap(lambda x: len(x.split(\" \"))).apply(sum, axis=1).loc[lambda x:x==4].index.tolist()\n",
    "df_kg.drop(remove_rows, inplace=True)"
   ]
  },
  {
   "cell_type": "markdown",
   "metadata": {},
   "source": [
    "#### Generate the knowledge graph"
   ]
  },
  {
   "cell_type": "code",
   "execution_count": null,
   "metadata": {},
   "outputs": [],
   "source": [
    "df_kg.to_pickle('kg_data_100.pkl')"
   ]
  },
  {
   "cell_type": "code",
   "execution_count": 3,
   "metadata": {},
   "outputs": [],
   "source": [
    "df_kg = pd.read_pickle('kg_data_100.pkl')"
   ]
  },
  {
   "cell_type": "code",
   "execution_count": 16,
   "metadata": {},
   "outputs": [
    {
     "name": "stdout",
     "output_type": "stream",
     "text": [
      "Filtering translations...\n",
      "Loading data in the knowledge graph...\n",
      "Building synonyms...\n"
     ]
    }
   ],
   "source": [
    "kg = generate_knowledge_graph(df_kg, 'knowledge_graph')"
   ]
  },
  {
   "cell_type": "code",
   "execution_count": 15,
   "metadata": {},
   "outputs": [
    {
     "name": "stdout",
     "output_type": "stream",
     "text": [
      "['référence géographique']\n",
      "['format raster']\n",
      "['lfp3']\n",
      "['lfp2']\n",
      "['lfp1']\n",
      "['points fixes de niveau']\n",
      "['possibilités de culture']\n",
      "['conditions climatiques préalables']\n",
      "['geodonnées']\n",
      "[\"lieu d'accident\"]\n",
      "['installation à feu']\n",
      "[\"site d'exploitation\"]\n",
      "['déchalandage ancien']\n",
      "['ancienne pollution']\n",
      "['installations militaires']\n",
      "['espèces animales.']\n",
      "['région cantonale']\n",
      "['référence de chasse']\n",
      "['voies de circulation']\n",
      "['région montagneuse']\n",
      "['ruptures de relief']\n",
      "[\"courbes d'altitude\"]\n",
      "[\"pieux fixes d'altitude\"]\n",
      "['géoinformation']\n",
      "['surfaces vignes']\n",
      "['dzv']\n",
      "['geoiv']\n",
      "['ensemble de données']\n",
      "['paiements directs']\n",
      "['apports du terrain']\n",
      "['conditions de vie']\n",
      "['biens-fonds']\n",
      "['orthophotographie']\n",
      "['limite scolaire']\n",
      "['églises catholiques locales']\n",
      "[\"feu d'alarme\"]\n",
      "[\"moment d'enquête.\"]\n",
      "['eaux communales']\n",
      "['catalogue hydrographique']\n",
      "['règlement génie schutz wasser (ou gschv)']\n",
      "['zonages']\n",
      "['protection du sous-sol']\n",
      "['zones protégées']\n",
      "[\"loi sur l'hydroélectricité.\", \"loi sur l'eau\"]\n",
      "['service public']\n",
      "['qualité des eaux']\n",
      "[\"cours d'eau superficiaux\"]\n",
      "[\"points d'étape\"]\n",
      "['phosphore total']\n",
      "[\"fiche (ou document d'opérationnement et de contrôle)\"]\n",
      "['emplacement', \"emplacement d'inspection\", \"point d'essai\", \"poste d'arrêt\"]\n",
      "['groupement national des géographes (gng)']\n",
      "['échelle']\n",
      "['unité de planification']\n",
      "['plans du registre foncier']\n",
      "['saint-gall']\n",
      "['réseau hydrographique']\n",
      "['situation juridique.']\n",
      "['demandes de contributions']\n",
      "['projets de revitalisation']\n",
      "['protection contre les inondations']\n",
      "[\"cours d'eau\"]\n",
      "['autorité communale']\n",
      "['travaux de planification']\n",
      "[\"système d'exploitation du potentiel (gep)\"]\n",
      "[\"projet d'évacuation des eaux\"]\n",
      "['société scientifique naturelle']\n",
      "[\"rapports d'inventaire\"]\n",
      "['géosite']\n",
      "['types de roches']\n",
      "['état naturel']\n",
      "['carte géographique.']\n",
      "['ia']\n",
      "['ar']\n",
      "['sg']\n",
      "['niveaux de danger']\n",
      "['produit de modélisation hydrologique']\n",
      "['zones de débordement', 'zones de débordement.']\n",
      "['inondations excessives']\n",
      "[\"cours d'eau\"]\n",
      "['eau de pluie']\n",
      "[\"débit d'écoulement superficiel\"]\n",
      "['nombres de bâtiments.']\n",
      "['nombres de parcelles']\n",
      "[\"numéro d'identification\"]\n",
      "[\"numéro d'assurance\"]\n",
      "['bâtiment spécial']\n",
      "['immeuble collectif']\n",
      "['maison individuelle']\n",
      "[\"catégories d'immeubles\"]\n",
      "['période de construction']\n",
      "['combustibles gazeux.']\n",
      "['gazole liquide']\n",
      "['gaz naturel']\n",
      "['conduits']\n",
      "['fourniture de gaz']\n",
      "['dwfv']\n",
      "['croissance du trafic', 'croissance-du-trafic']\n",
      "['wvfv']\n",
      "['dtfv']\n",
      "['comptoirs pour piétons', 'comptages-pieds-de-foule']\n",
      "['résultats du meeting', 'résultats-des-événements']\n",
      "['planification alimentaire.']\n",
      "[\"base d'alimentation\"]\n",
      "['surfaces de production']\n",
      "[\"surfaces d'agriculture\"]\n",
      "['rhodanie intérieure', 'rhodanie intérieure.']\n",
      "['eaux courantes', \"cours d'eau\"]\n",
      "[\"équipes d'extinction des incendies\"]\n",
      "['eau chaude.']\n",
      "['système de chauffage']\n",
      "['chauffage à distance']\n",
      "['carte géographique']\n",
      "['carte des blocs de champs']\n",
      "[\"carte des cours d'eau\"]\n",
      "['algorithmes de flux multiple']\n",
      "['coefficient c']\n",
      "['erosion du sol', 'érosion du sol']\n",
      "['étapes de dangerosité']\n",
      "['couverture forestière 300m']\n",
      "['images satellites']\n",
      "['données sur les surfaces', \"données sur l'étendue du terrain\"]\n",
      "['terre agricole']\n",
      "[\"risque d'érosion\"]\n",
      "['base-de-données-environnementales']\n",
      "['nouvelles-naturelles']\n",
      "['risques naturels', 'risques-naturals']\n",
      "['échelle-d-altitude']\n",
      "['zones-d-admissibilité']\n",
      "['sondes-thermiques-globales']\n",
      "['base-de-décision']\n",
      "['aménagement du territoire']\n",
      "['ville énergétique']\n",
      "['ressources énergétiques']\n",
      "[\"justificatif d'activité\"]\n",
      "['type de chauffage']\n",
      "['cabines de distribution.']\n",
      "['postes de transformation']\n",
      "['réseau électrique']\n",
      "['alimentation électrique']\n",
      "[\"câbles d'alimentation\", \"conduites d'alimentation\", 'raccordements électriques', \"conduites d'installation\"]\n",
      "['niveaux de réseau.']\n",
      "['alimentation électrique (stromvg)']\n",
      "['réseau (sr)']\n",
      "[\"loi sur l'alimentation électrique\"]\n",
      "[\"zones d'électricité\"]\n",
      "[\"autorité chargée de l'exécution.\"]\n",
      "['comptage du trafic']\n",
      "['bruit atmosphérique']\n",
      "['réseau ferré']\n",
      "[\"registre d'émissions\", \"inventaire d'émissions\"]\n",
      "['rhétien railways']\n",
      "['sob']\n",
      "['bls']\n",
      "['cff']\n",
      "['année civile']\n",
      "['calculs de modèle', 'calculs modélisés']\n",
      "['trafic ferroviaire', 'circulation ferroviaire']\n",
      "[\"câbles d'accès\"]\n",
      "['carte topographique']\n",
      "[\"chef d'état-major général\"]\n",
      "['confédération suisse']\n",
      "[\"quartier-maître d'état-major\"]\n",
      "['inventaire bln']\n",
      "['inventaire kln']\n",
      "['monuments naturels']\n",
      "['inventaires fédéraux']\n",
      "['protection-nature-patrimoine']\n",
      "['loi fédérale']\n",
      "['types de sol.']\n",
      "['inclinaison de terrain']\n",
      "['pente de terrain']\n",
      "['roches mères']\n",
      "['unités physiographiques']\n",
      "['lettres majuscules']\n",
      "['carte du niveau du sol']\n",
      "['office fédéral.', 'office fédéral', 'bureau fédéral']\n",
      "['zones interdites.']\n",
      "['taux de couverture']\n",
      "['stade de développement']\n",
      "['âge du peuplement']\n",
      "[\"composition d'espèces arborees\"]\n",
      "['planification forestière']\n",
      "['carte des étendues forestières']\n",
      "['astre']\n",
      "[\"système d'information géographique (wms)\", \"système d'information géographique\", \"système d'information géographique (sig)\", 'wms']\n",
      "['terrain']\n",
      "['nationalstraße']\n",
      "['source de données']\n",
      "[\"étapes d'achèvement de construction\"]\n",
      "['code pénal suisse (zgb)']\n",
      "['zones de glissements']\n",
      "['voie ferrée (gwr)', 'gwr', 'chemin de fer grand western (gwr)', 'gare et wagon routier (gwr)']\n",
      "['patrimoine immobilier']\n",
      "['maisons individuelles']\n",
      "['swiss topographic', 'swissmap', 'swiss topo.']\n",
      "['cartes du pays', 'cartes nationales', 'cartes géographiques du pays.', 'cartes régionales', 'cartes géographiques régionales.']\n",
      "[\"plan d'ensemble\"]\n",
      "['stand']\n",
      "[\"présence d'amphibiens\"]\n",
      "['ouvrages hydrauliques.']\n",
      "['étages à pression']\n",
      "['eau de lutte contre les incendies']\n",
      "[\"eau d'usage courant\"]\n",
      "['eau de fonctionnement']\n",
      "['eau potable']\n",
      "['approvisionnement en eau potable']\n",
      "[\"carte d'aléa\", 'géocarte dangereuse', \"carte d'alerte\"]\n"
     ]
    }
   ],
   "source": [
    "for ref in find_edges_by_language(kg, 'german'):\n",
    "    print([k['id'] for k in kg.v(vertex=ref).inc(\"means\").has('lang', 'french').all()['result']])"
   ]
  },
  {
   "cell_type": "code",
   "execution_count": 45,
   "metadata": {},
   "outputs": [
    {
     "data": {
      "text/plain": [
       "[\"carte d'alerte\",\n",
       " \"carte d'aléa\",\n",
       " 'carta di pericolo',\n",
       " 'géocarte dangereuse',\n",
       " 'carta dei pericoli',\n",
       " 'danger map',\n",
       " 'Gefahrenkarte']"
      ]
     },
     "execution_count": 45,
     "metadata": {},
     "output_type": "execute_result"
    }
   ],
   "source": [
    "find_translation(kg, 'Gefahrenkarte', 'german')"
   ]
  },
  {
   "cell_type": "code",
   "execution_count": 35,
   "metadata": {},
   "outputs": [
    {
     "data": {
      "text/html": [
       "  <iframe srcdoc='\n",
       "<!DOCTYPE html>\n",
       "<html lang=\"en\">\n",
       "  <head>\n",
       "    <title>Cog Graph</title>\n",
       "    <style type=\"text/css\">\n",
       "       body {\n",
       "        padding: 0;\n",
       "        margin: 0;\n",
       "        width: 100%;!important; \n",
       "        height: 100%;!important; \n",
       "      }\n",
       "\n",
       "      #cog-graph-view {\n",
       "        width: 700px;\n",
       "        height: 700px;\n",
       "      }\n",
       "    </style>\n",
       "\n",
       "\n",
       "    <script\n",
       "      type=\"text/javascript\"\n",
       "      src=\"https://cdnjs.cloudflare.com/ajax/libs/vis-network/9.1.2/dist/vis-network.min.js\"\n",
       "    ></script>\n",
       "  </head>  \n",
       " \n",
       "  <body>\n",
       "    <div id=\"cog-graph-view\"></div>\n",
       "\n",
       "    <script type=\"text/javascript\">\n",
       "\n",
       "    results =[{\"id\": \"carte d'al\\u00e9a\", \"from\": \"Gefahrenkarte\", \"to\": \"carte d'al\\u00e9a\"}, {\"id\": \"carta di pericolo\", \"from\": \"Gefahrenkarte\", \"to\": \"carta di pericolo\"}, {\"id\": \"danger map\", \"from\": \"Gefahrenkarte\", \"to\": \"danger map\"}, {\"id\": \"g\\u00e9ocarte dangereuse\", \"from\": \"Gefahrenkarte\", \"to\": \"g\\u00e9ocarte dangereuse\"}, {\"id\": \"carta dei pericoli\", \"from\": \"Gefahrenkarte\", \"to\": \"carta dei pericoli\"}, {\"id\": \"carte d'alerte\", \"from\": \"Gefahrenkarte\", \"to\": \"carte d'alerte\"}] \n",
       "\n",
       "    var nodes = new vis.DataSet();\n",
       "    var edges = new vis.DataSet();\n",
       "    for (let i = 0; i < results.length; i++) {\n",
       "        res = results[i];\n",
       "        nodes.update({\n",
       "            id: res.from,\n",
       "            label: res.from\n",
       "        });\n",
       "        nodes.update({\n",
       "            id: res.to,\n",
       "            label: res.to\n",
       "        });\n",
       "        edges.update({\n",
       "            from: res.from,\n",
       "            to: res.to\n",
       "        });\n",
       "\n",
       "    }\n",
       "\n",
       "    var container = document.getElementById(\"cog-graph-view\");\n",
       "    var data = {\n",
       "        nodes: nodes,\n",
       "        edges: edges,\n",
       "    };\n",
       "    var options = {\n",
       "        nodes: {\n",
       "            font: {\n",
       "                size: 20,\n",
       "                color: \"black\"\n",
       "            },\n",
       "            color: \"#46944f\",\n",
       "            shape: \"dot\",\n",
       "            widthConstraint: 200,\n",
       "\n",
       "        },\n",
       "        edges: {\n",
       "            font: \"12px arial #ff0000\",\n",
       "            scaling: {\n",
       "                label: true,\n",
       "            },\n",
       "            shadow: true,\n",
       "            smooth: true,\n",
       "            arrows: { to: {enabled: true}}\n",
       "        },\n",
       "        physics: {\n",
       "            barnesHut: {\n",
       "                gravitationalConstant: -30000\n",
       "            },\n",
       "            stabilization: {\n",
       "                iterations: 1000\n",
       "            },\n",
       "        }\n",
       "\n",
       "    };\n",
       "    var network = new vis.Network(container, data, options);\n",
       "    </script>\n",
       "  </body>\n",
       "</html>\n",
       "\n",
       "' width=\"700\" height=\"700\"> </iframe> "
      ],
      "text/plain": [
       "<IPython.core.display.HTML object>"
      ]
     },
     "metadata": {},
     "output_type": "display_data"
    }
   ],
   "source": [
    "kg.v(\"Gefahrenkarte\").tag(\"from\").inc(\"means\").tag(\"to\").view(\"synonym\").render()"
   ]
  }
 ],
 "metadata": {
  "kernelspec": {
   "display_name": "geoharvester",
   "language": "python",
   "name": "python3"
  },
  "language_info": {
   "codemirror_mode": {
    "name": "ipython",
    "version": 3
   },
   "file_extension": ".py",
   "mimetype": "text/x-python",
   "name": "python",
   "nbconvert_exporter": "python",
   "pygments_lexer": "ipython3",
   "version": "3.9.16"
  }
 },
 "nbformat": 4,
 "nbformat_minor": 2
}
